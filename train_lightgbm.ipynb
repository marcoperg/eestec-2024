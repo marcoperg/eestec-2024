{
 "cells": [
  {
   "cell_type": "code",
   "execution_count": null,
   "id": "5648c235",
   "metadata": {},
   "outputs": [],
   "source": [
    "from pathlib import Path\n",
    "\n",
    "import numpy as np\n",
    "import pandas as pd\n",
    "from sklearn.base import BaseEstimator, RegressorMixin\n",
    "from sklearn.metrics import roc_auc_score\n",
    "from sklearn.model_selection import StratifiedGroupKFold\n",
    "import lightgbm as lgb\n",
    "from tqdm.auto import tqdm"
   ]
  },
  {
   "cell_type": "code",
   "execution_count": null,
   "id": "839acb1d",
   "metadata": {},
   "outputs": [],
   "source": [
    "DATA_ROOT   = Path('./data')\n",
    "WORKING_DIR = Path('./')\n",
    "STUDY_PATH = WORKING_DIR / 'studies'"
   ]
  },
  {
   "cell_type": "code",
   "execution_count": null,
   "id": "4c5a1342",
   "metadata": {},
   "outputs": [],
   "source": [
    "df_train = pd.read_parquet(DATA_ROOT / 'working_dataset.parquet')"
   ]
  },
  {
   "cell_type": "code",
   "execution_count": null,
   "id": "e9cc776c",
   "metadata": {},
   "outputs": [],
   "source": [
    "n_splits = 5\n",
    "cv = StratifiedGroupKFold(n_splits=n_splits, shuffle=False)\n",
    "\n",
    "X = ...\n",
    "y = ..."
   ]
  },
  {
   "cell_type": "code",
   "execution_count": null,
   "id": "cd4d956e",
   "metadata": {},
   "outputs": [],
   "source": [
    "class VotingModel(BaseEstimator, RegressorMixin):\n",
    "    def __init__(self, estimators):\n",
    "        super().__init__()\n",
    "        self.estimators = estimators\n",
    "        \n",
    "    def fit(self, X, y=None):\n",
    "        return self\n",
    "    \n",
    "    def predict(self, X):\n",
    "        y_preds = [estimator.predict(X) for estimator in self.estimators]\n",
    "        return np.mean(y_preds, axis=0)\n",
    "    \n",
    "    def predict_proba(self, X):\n",
    "        try:\n",
    "            y_preds = [estimator.predict_proba(X) for estimator in self.estimators]\n",
    "        except AttributeError:\n",
    "            y_preds = [estimator.predict(X) for estimator in self.estimators]\n",
    "        return np.mean(y_preds, axis=0)"
   ]
  },
  {
   "cell_type": "code",
   "execution_count": null,
   "id": "053f45da",
   "metadata": {},
   "outputs": [],
   "source": [
    "def train(params):\n",
    "    fitted_models = []\n",
    "    cv_scores = []\n",
    "    oof_preds = pd.DataFrame({'score': pd.Series(dtype='float'),\n",
    "                              'week': pd.Series(dtype='int'),\n",
    "                              'target': pd.Series(dtype='float')})\n",
    "\n",
    "    for idx_train, idx_valid in tqdm(cv.split(X, y), total=n_splits):\n",
    "        X_train, y_train = X.iloc[idx_train], y.iloc[idx_train]\n",
    "        X_valid, y_valid = X.iloc[idx_valid], y.iloc[idx_valid]\n",
    "\n",
    "        model = lgb.LGBMClassifier(**params)\n",
    "        model.fit(\n",
    "            X_train, y_train,\n",
    "            eval_set=[(X_valid, y_valid)],\n",
    "            callbacks=[lgb.log_evaluation(200), lgb.early_stopping(60)]\n",
    "            # callbacks=[lgb.early_stopping(50, verbose=False)]\n",
    "        )\n",
    "        fitted_models.append(model)\n",
    "    \n",
    "        y_pred_valid = model.predict_proba(X_valid)[:, 1]\n",
    "        \n",
    "        oof_preds = pd.concat([oof_preds, \n",
    "                               pd.DataFrame({'score': y_pred_valid, 'week': weeks.iloc[idx_valid], 'target': y_valid.astype(float)})])\n",
    "        \n",
    "        auc_score = roc_auc_score(y_valid, y_pred_valid)\n",
    "        cv_scores.append(auc_score)\n",
    "    \n",
    "    model = VotingModel(fitted_models)\n",
    "    oof_preds.to_parquet('./oofs/lightgbm.parquet')\n",
    "\n",
    "    return model, cv_scores, oof_preds"
   ]
  },
  {
   "cell_type": "code",
   "execution_count": null,
   "id": "dbfe62ca",
   "metadata": {},
   "outputs": [],
   "source": [
    "import joblib\n",
    "\n",
    "# Create or load the study\n",
    "def create_or_load_study(study_name, storage=None):\n",
    "    try:\n",
    "        study = joblib.load(f\"{STUDY_PATH}/{study_name}.pkl\")\n",
    "        print(f\"Loaded study '{study_name}' from file.\")\n",
    "    except FileNotFoundError:\n",
    "        study = optuna.create_study(study_name=study_name, storage=storage, direction='maximize')\n",
    "        print(f\"Created new study '{study_name}'.\")\n",
    "    return study\n",
    "\n",
    "# Function to save the study\n",
    "def save_study(study, study_name):\n",
    "    joblib.dump(study, f\"{STUDY_PATH}/{study_name}.pkl\")\n",
    "    print(f\"Study '{study_name}' saved to file.\")"
   ]
  }
 ],
 "metadata": {
  "kernelspec": {
   "display_name": "Python 3 (ipykernel)",
   "language": "python",
   "name": "python3"
  },
  "language_info": {
   "codemirror_mode": {
    "name": "ipython",
    "version": 3
   },
   "file_extension": ".py",
   "mimetype": "text/x-python",
   "name": "python",
   "nbconvert_exporter": "python",
   "pygments_lexer": "ipython3",
   "version": "3.10.9"
  }
 },
 "nbformat": 4,
 "nbformat_minor": 5
}
