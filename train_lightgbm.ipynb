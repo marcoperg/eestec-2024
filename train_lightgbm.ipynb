{
 "cells": [
  {
   "cell_type": "code",
   "execution_count": 1,
   "id": "bf60d82c",
   "metadata": {},
   "outputs": [],
   "source": [
    "from pathlib import Path\n",
    "\n",
    "import numpy as np\n",
    "import pandas as pd\n",
    "from sklearn.base import BaseEstimator, RegressorMixin\n",
    "from sklearn.metrics import mean_squared_error\n",
    "from sklearn.model_selection import KFold\n",
    "import lightgbm as lgb\n",
    "from tqdm.auto import tqdm"
   ]
  },
  {
   "cell_type": "code",
   "execution_count": 2,
   "id": "cdcd852c",
   "metadata": {},
   "outputs": [],
   "source": [
    "DATA_ROOT   = Path('./data')\n",
    "WORKING_DIR = Path('./')\n",
    "STUDY_PATH = WORKING_DIR / 'studies'"
   ]
  },
  {
   "cell_type": "code",
   "execution_count": 3,
   "id": "251eb5e2",
   "metadata": {},
   "outputs": [],
   "source": [
    "n_splits = 5\n",
    "cv = KFold(n_splits=n_splits, shuffle=False)\n",
    "\n",
    "X = pd.read_parquet(DATA_ROOT / 'working_dataset.parquet')\n",
    "y = pd.read_csv(DATA_ROOT / 'train_labels.csv')['imdb_score']"
   ]
  },
  {
   "cell_type": "code",
   "execution_count": 4,
   "id": "3ac58352",
   "metadata": {},
   "outputs": [],
   "source": [
    "class VotingModel(BaseEstimator, RegressorMixin):\n",
    "    def __init__(self, estimators):\n",
    "        super().__init__()\n",
    "        self.estimators = estimators\n",
    "        \n",
    "    def fit(self, X, y=None):\n",
    "        return self\n",
    "    \n",
    "    def predict(self, X):\n",
    "        y_preds = [estimator.predict(X) for estimator in self.estimators]\n",
    "        return np.mean(y_preds, axis=0)\n",
    "    \n",
    "    def predict_proba(self, X):\n",
    "        try:\n",
    "            y_preds = [estimator.predict_proba(X) for estimator in self.estimators]\n",
    "        except AttributeError:\n",
    "            y_preds = [estimator.predict(X) for estimator in self.estimators]\n",
    "        return np.mean(y_preds, axis=0)"
   ]
  },
  {
   "cell_type": "code",
   "execution_count": 5,
   "id": "2827069b",
   "metadata": {},
   "outputs": [],
   "source": [
    "def train(params):\n",
    "    fitted_models = []\n",
    "    cv_scores = []\n",
    "\n",
    "\n",
    "    for idx_train, idx_valid in tqdm(cv.split(X, y), total=n_splits):\n",
    "        X_train, y_train = X.iloc[idx_train], y.iloc[idx_train]\n",
    "        X_valid, y_valid = X.iloc[idx_valid], y.iloc[idx_valid]\n",
    "\n",
    "        model = lgb.LGBMRegressor(**params)\n",
    "        model.fit(\n",
    "            X_train, y_train,\n",
    "            eval_set=[(X_valid, y_valid)],\n",
    "            callbacks=[lgb.log_evaluation(200), lgb.early_stopping(60)]\n",
    "            # callbacks=[lgb.early_stopping(50, verbose=False)]\n",
    "        )\n",
    "        fitted_models.append(model)\n",
    "    \n",
    "        y_pred = model.predict(X_valid)\n",
    "\n",
    "        mse_score = mean_squared_error(y_valid, y_pred)\n",
    "        cv_scores.append(mse_score)\n",
    "    \n",
    "    model = VotingModel(fitted_models)\n",
    "\n",
    "    return model, cv_scores"
   ]
  },
  {
   "cell_type": "code",
   "execution_count": 6,
   "id": "f85d3a1f",
   "metadata": {},
   "outputs": [],
   "source": [
    "import joblib\n",
    "\n",
    "# Create or load the study\n",
    "def create_or_load_study(study_name, storage=None):\n",
    "    try:\n",
    "        study = joblib.load(f\"{STUDY_PATH}/{study_name}.pkl\")\n",
    "        print(f\"Loaded study '{study_name}' from file.\")\n",
    "    except FileNotFoundError:\n",
    "        study = optuna.create_study(study_name=study_name, storage=storage, direction='maximize')\n",
    "        print(f\"Created new study '{study_name}'.\")\n",
    "    return study\n",
    "\n",
    "# Function to save the study\n",
    "def save_study(study, study_name):\n",
    "    joblib.dump(study, f\"{STUDY_PATH}/{study_name}.pkl\")\n",
    "    print(f\"Study '{study_name}' saved to file.\")"
   ]
  },
  {
   "cell_type": "code",
   "execution_count": null,
   "id": "c9906a70",
   "metadata": {
    "scrolled": false
   },
   "outputs": [
    {
     "name": "stderr",
     "output_type": "stream",
     "text": [
      "[I 2024-04-05 20:55:16,582] A new study created in memory with name: optuna\n"
     ]
    },
    {
     "name": "stdout",
     "output_type": "stream",
     "text": [
      "Created new study 'optuna'.\n"
     ]
    },
    {
     "data": {
      "application/vnd.jupyter.widget-view+json": {
       "model_id": "39b0fecb58ab4c0f853ae25ad615ea74",
       "version_major": 2,
       "version_minor": 0
      },
      "text/plain": [
       "  0%|          | 0/40 [00:00<?, ?it/s]"
      ]
     },
     "metadata": {},
     "output_type": "display_data"
    },
    {
     "name": "stderr",
     "output_type": "stream",
     "text": [
      "/tmp/ipykernel_10335/418579513.py:8: FutureWarning: suggest_loguniform has been deprecated in v3.0.0. This feature will be removed in v6.0.0. See https://github.com/optuna/optuna/releases/tag/v3.0.0. Use suggest_float(..., log=True) instead.\n",
      "  'reg_alpha': trial.suggest_loguniform('reg_alpha', 1e-3, 10.0),\n",
      "/tmp/ipykernel_10335/418579513.py:9: FutureWarning: suggest_loguniform has been deprecated in v3.0.0. This feature will be removed in v6.0.0. See https://github.com/optuna/optuna/releases/tag/v3.0.0. Use suggest_float(..., log=True) instead.\n",
      "  'reg_lambda': trial.suggest_loguniform('reg_lambda', 1e-3, 10.0),\n"
     ]
    },
    {
     "data": {
      "application/vnd.jupyter.widget-view+json": {
       "model_id": "e4806bcf513a4b01bb1bcb065398f485",
       "version_major": 2,
       "version_minor": 0
      },
      "text/plain": [
       "  0%|          | 0/5 [00:00<?, ?it/s]"
      ]
     },
     "metadata": {},
     "output_type": "display_data"
    },
    {
     "name": "stdout",
     "output_type": "stream",
     "text": [
      "Training until validation scores don't improve for 60 rounds\n",
      "[200]\tvalid_0's rmse: 0.412973\n",
      "[400]\tvalid_0's rmse: 0.383718\n",
      "[600]\tvalid_0's rmse: 0.379671\n",
      "[800]\tvalid_0's rmse: 0.377533\n",
      "[1000]\tvalid_0's rmse: 0.37687\n",
      "Early stopping, best iteration is:\n",
      "[1005]\tvalid_0's rmse: 0.376752\n",
      "Training until validation scores don't improve for 60 rounds\n",
      "[200]\tvalid_0's rmse: 0.411374\n",
      "[400]\tvalid_0's rmse: 0.387888\n",
      "[600]\tvalid_0's rmse: 0.385843\n",
      "Early stopping, best iteration is:\n",
      "[546]\tvalid_0's rmse: 0.385762\n",
      "Training until validation scores don't improve for 60 rounds\n",
      "[200]\tvalid_0's rmse: 0.445588\n",
      "[400]\tvalid_0's rmse: 0.416044\n",
      "[600]\tvalid_0's rmse: 0.409679\n",
      "[800]\tvalid_0's rmse: 0.407315\n",
      "[1000]\tvalid_0's rmse: 0.40531\n",
      "[1200]\tvalid_0's rmse: 0.404378\n",
      "Early stopping, best iteration is:\n",
      "[1140]\tvalid_0's rmse: 0.404039\n",
      "Training until validation scores don't improve for 60 rounds\n",
      "[200]\tvalid_0's rmse: 0.402237\n",
      "[400]\tvalid_0's rmse: 0.379346\n",
      "[600]\tvalid_0's rmse: 0.374881\n",
      "Early stopping, best iteration is:\n",
      "[697]\tvalid_0's rmse: 0.373397\n",
      "Training until validation scores don't improve for 60 rounds\n",
      "[200]\tvalid_0's rmse: 0.397879\n",
      "[400]\tvalid_0's rmse: 0.37162\n",
      "[600]\tvalid_0's rmse: 0.36743\n",
      "[800]\tvalid_0's rmse: 0.36571\n",
      "Early stopping, best iteration is:\n",
      "[841]\tvalid_0's rmse: 0.36548\n",
      "[I 2024-04-05 20:55:19,540] Trial 0 finished with value: 0.14540051857686676 and parameters: {'reg_alpha': 0.036442615738902215, 'reg_lambda': 0.16927145622644302, 'colsample_bytree': 0.6, 'subsample': 0.7, 'learning_rate': 0.017, 'max_depth': 20, 'num_leaves': 470, 'min_child_samples': 72, 'min_data_per_groups': 62}. Best is trial 0 with value: 0.14540051857686676.\n",
      "Current value: 0.14540051857686676, Current params: {'reg_alpha': 0.036442615738902215, 'reg_lambda': 0.16927145622644302, 'colsample_bytree': 0.6, 'subsample': 0.7, 'learning_rate': 0.017, 'max_depth': 20, 'num_leaves': 470, 'min_child_samples': 72, 'min_data_per_groups': 62}\n",
      "Study 'optuna' saved to file.\n"
     ]
    },
    {
     "name": "stderr",
     "output_type": "stream",
     "text": [
      "/tmp/ipykernel_10335/418579513.py:8: FutureWarning: suggest_loguniform has been deprecated in v3.0.0. This feature will be removed in v6.0.0. See https://github.com/optuna/optuna/releases/tag/v3.0.0. Use suggest_float(..., log=True) instead.\n",
      "  'reg_alpha': trial.suggest_loguniform('reg_alpha', 1e-3, 10.0),\n",
      "/tmp/ipykernel_10335/418579513.py:9: FutureWarning: suggest_loguniform has been deprecated in v3.0.0. This feature will be removed in v6.0.0. See https://github.com/optuna/optuna/releases/tag/v3.0.0. Use suggest_float(..., log=True) instead.\n",
      "  'reg_lambda': trial.suggest_loguniform('reg_lambda', 1e-3, 10.0),\n"
     ]
    },
    {
     "data": {
      "application/vnd.jupyter.widget-view+json": {
       "model_id": "0d27b5a5b1984cd683e3bd10a9ac3dda",
       "version_major": 2,
       "version_minor": 0
      },
      "text/plain": [
       "  0%|          | 0/5 [00:00<?, ?it/s]"
      ]
     },
     "metadata": {},
     "output_type": "display_data"
    },
    {
     "name": "stdout",
     "output_type": "stream",
     "text": [
      "Training until validation scores don't improve for 60 rounds\n",
      "[200]\tvalid_0's rmse: 0.397854\n",
      "[400]\tvalid_0's rmse: 0.37756\n",
      "Early stopping, best iteration is:\n",
      "[531]\tvalid_0's rmse: 0.375274\n",
      "Training until validation scores don't improve for 60 rounds\n",
      "[200]\tvalid_0's rmse: 0.379437\n",
      "[400]\tvalid_0's rmse: 0.372666\n",
      "Early stopping, best iteration is:\n",
      "[356]\tvalid_0's rmse: 0.372496\n",
      "Training until validation scores don't improve for 60 rounds\n",
      "[200]\tvalid_0's rmse: 0.421237\n",
      "[400]\tvalid_0's rmse: 0.396987\n",
      "[600]\tvalid_0's rmse: 0.392567\n",
      "[800]\tvalid_0's rmse: 0.389846\n",
      "[1000]\tvalid_0's rmse: 0.388481\n",
      "[1200]\tvalid_0's rmse: 0.387694\n",
      "[1400]\tvalid_0's rmse: 0.386291\n",
      "Early stopping, best iteration is:\n",
      "[1403]\tvalid_0's rmse: 0.386281\n",
      "Training until validation scores don't improve for 60 rounds\n",
      "[200]\tvalid_0's rmse: 0.386912\n",
      "[400]\tvalid_0's rmse: 0.369499\n",
      "Early stopping, best iteration is:\n",
      "[451]\tvalid_0's rmse: 0.36805\n",
      "Training until validation scores don't improve for 60 rounds\n",
      "[200]\tvalid_0's rmse: 0.378359\n",
      "[400]\tvalid_0's rmse: 0.367986\n",
      "[600]\tvalid_0's rmse: 0.36604\n",
      "Early stopping, best iteration is:\n",
      "[565]\tvalid_0's rmse: 0.365741\n",
      "[I 2024-04-05 20:55:22,529] Trial 1 finished with value: 0.13960476805164662 and parameters: {'reg_alpha': 0.09051495420496702, 'reg_lambda': 8.034470518379589, 'colsample_bytree': 1.0, 'subsample': 0.5, 'learning_rate': 0.017, 'max_depth': 100, 'num_leaves': 594, 'min_child_samples': 51, 'min_data_per_groups': 88}. Best is trial 0 with value: 0.14540051857686676.\n",
      "Current value: 0.13960476805164662, Current params: {'reg_alpha': 0.09051495420496702, 'reg_lambda': 8.034470518379589, 'colsample_bytree': 1.0, 'subsample': 0.5, 'learning_rate': 0.017, 'max_depth': 100, 'num_leaves': 594, 'min_child_samples': 51, 'min_data_per_groups': 88}\n",
      "Study 'optuna' saved to file.\n"
     ]
    },
    {
     "name": "stderr",
     "output_type": "stream",
     "text": [
      "/tmp/ipykernel_10335/418579513.py:8: FutureWarning: suggest_loguniform has been deprecated in v3.0.0. This feature will be removed in v6.0.0. See https://github.com/optuna/optuna/releases/tag/v3.0.0. Use suggest_float(..., log=True) instead.\n",
      "  'reg_alpha': trial.suggest_loguniform('reg_alpha', 1e-3, 10.0),\n",
      "/tmp/ipykernel_10335/418579513.py:9: FutureWarning: suggest_loguniform has been deprecated in v3.0.0. This feature will be removed in v6.0.0. See https://github.com/optuna/optuna/releases/tag/v3.0.0. Use suggest_float(..., log=True) instead.\n",
      "  'reg_lambda': trial.suggest_loguniform('reg_lambda', 1e-3, 10.0),\n"
     ]
    },
    {
     "data": {
      "application/vnd.jupyter.widget-view+json": {
       "model_id": "8849c070a74c42ed81295302d03779d5",
       "version_major": 2,
       "version_minor": 0
      },
      "text/plain": [
       "  0%|          | 0/5 [00:00<?, ?it/s]"
      ]
     },
     "metadata": {},
     "output_type": "display_data"
    },
    {
     "name": "stdout",
     "output_type": "stream",
     "text": [
      "Training until validation scores don't improve for 60 rounds\n",
      "[200]\tvalid_0's rmse: 0.480938\n",
      "[400]\tvalid_0's rmse: 0.457258\n",
      "[600]\tvalid_0's rmse: 0.44853\n",
      "[800]\tvalid_0's rmse: 0.44495\n",
      "[1000]\tvalid_0's rmse: 0.443844\n",
      "[1200]\tvalid_0's rmse: 0.442426\n",
      "[1400]\tvalid_0's rmse: 0.440486\n",
      "Early stopping, best iteration is:\n",
      "[1498]\tvalid_0's rmse: 0.439643\n",
      "Training until validation scores don't improve for 60 rounds\n",
      "[200]\tvalid_0's rmse: 0.448285\n",
      "[400]\tvalid_0's rmse: 0.43066\n",
      "[600]\tvalid_0's rmse: 0.428146\n",
      "[800]\tvalid_0's rmse: 0.426854\n",
      "[1000]\tvalid_0's rmse: 0.425508\n",
      "[1200]\tvalid_0's rmse: 0.424785\n",
      "Early stopping, best iteration is:\n",
      "[1151]\tvalid_0's rmse: 0.424712\n",
      "Training until validation scores don't improve for 60 rounds\n",
      "[200]\tvalid_0's rmse: 0.502857\n",
      "[400]\tvalid_0's rmse: 0.474711\n",
      "[600]\tvalid_0's rmse: 0.469955\n",
      "[800]\tvalid_0's rmse: 0.467726\n",
      "[1000]\tvalid_0's rmse: 0.465995\n",
      "[1200]\tvalid_0's rmse: 0.465688\n",
      "[1400]\tvalid_0's rmse: 0.46478\n",
      "Early stopping, best iteration is:\n",
      "[1465]\tvalid_0's rmse: 0.464322\n",
      "Training until validation scores don't improve for 60 rounds\n",
      "[200]\tvalid_0's rmse: 0.468223\n",
      "[400]\tvalid_0's rmse: 0.458715\n",
      "[600]\tvalid_0's rmse: 0.452279\n",
      "[800]\tvalid_0's rmse: 0.449255\n",
      "[1000]\tvalid_0's rmse: 0.446801\n",
      "[1200]\tvalid_0's rmse: 0.445529\n",
      "[1400]\tvalid_0's rmse: 0.444133\n",
      "[1600]\tvalid_0's rmse: 0.442833\n",
      "[1800]\tvalid_0's rmse: 0.441831\n",
      "Early stopping, best iteration is:\n",
      "[1939]\tvalid_0's rmse: 0.441215\n",
      "Training until validation scores don't improve for 60 rounds\n",
      "[200]\tvalid_0's rmse: 0.454859\n",
      "[400]\tvalid_0's rmse: 0.440496\n",
      "[600]\tvalid_0's rmse: 0.436606\n",
      "[800]\tvalid_0's rmse: 0.433548\n",
      "[1000]\tvalid_0's rmse: 0.430686\n",
      "[1200]\tvalid_0's rmse: 0.428244\n",
      "[1400]\tvalid_0's rmse: 0.426382\n",
      "[1600]\tvalid_0's rmse: 0.424856\n",
      "[1800]\tvalid_0's rmse: 0.4239\n",
      "[2000]\tvalid_0's rmse: 0.42325\n",
      "[2200]\tvalid_0's rmse: 0.422723\n",
      "Early stopping, best iteration is:\n",
      "[2196]\tvalid_0's rmse: 0.422635\n",
      "[I 2024-04-05 20:55:24,684] Trial 2 finished with value: 0.19251060133554954 and parameters: {'reg_alpha': 0.17910045181439957, 'reg_lambda': 4.08950015635879, 'colsample_bytree': 1.0, 'subsample': 0.8, 'learning_rate': 0.014, 'max_depth': 10, 'num_leaves': 6, 'min_child_samples': 269, 'min_data_per_groups': 91}. Best is trial 2 with value: 0.19251060133554954.\n",
      "Current value: 0.19251060133554954, Current params: {'reg_alpha': 0.17910045181439957, 'reg_lambda': 4.08950015635879, 'colsample_bytree': 1.0, 'subsample': 0.8, 'learning_rate': 0.014, 'max_depth': 10, 'num_leaves': 6, 'min_child_samples': 269, 'min_data_per_groups': 91}\n",
      "Study 'optuna' saved to file.\n"
     ]
    },
    {
     "name": "stderr",
     "output_type": "stream",
     "text": [
      "/tmp/ipykernel_10335/418579513.py:8: FutureWarning: suggest_loguniform has been deprecated in v3.0.0. This feature will be removed in v6.0.0. See https://github.com/optuna/optuna/releases/tag/v3.0.0. Use suggest_float(..., log=True) instead.\n",
      "  'reg_alpha': trial.suggest_loguniform('reg_alpha', 1e-3, 10.0),\n",
      "/tmp/ipykernel_10335/418579513.py:9: FutureWarning: suggest_loguniform has been deprecated in v3.0.0. This feature will be removed in v6.0.0. See https://github.com/optuna/optuna/releases/tag/v3.0.0. Use suggest_float(..., log=True) instead.\n",
      "  'reg_lambda': trial.suggest_loguniform('reg_lambda', 1e-3, 10.0),\n"
     ]
    },
    {
     "data": {
      "application/vnd.jupyter.widget-view+json": {
       "model_id": "4652545900604837a7bb49a54d1b262f",
       "version_major": 2,
       "version_minor": 0
      },
      "text/plain": [
       "  0%|          | 0/5 [00:00<?, ?it/s]"
      ]
     },
     "metadata": {},
     "output_type": "display_data"
    },
    {
     "name": "stdout",
     "output_type": "stream",
     "text": [
      "Training until validation scores don't improve for 60 rounds\n",
      "[200]\tvalid_0's rmse: 0.470597\n",
      "[400]\tvalid_0's rmse: 0.450809\n",
      "[600]\tvalid_0's rmse: 0.443471\n",
      "[800]\tvalid_0's rmse: 0.440211\n",
      "[1000]\tvalid_0's rmse: 0.437548\n",
      "[1200]\tvalid_0's rmse: 0.435114\n",
      "[1400]\tvalid_0's rmse: 0.433776\n",
      "[1600]\tvalid_0's rmse: 0.432867\n",
      "[1800]\tvalid_0's rmse: 0.432384\n",
      "Early stopping, best iteration is:\n",
      "[1759]\tvalid_0's rmse: 0.432134\n",
      "Training until validation scores don't improve for 60 rounds\n",
      "[200]\tvalid_0's rmse: 0.430612\n",
      "[400]\tvalid_0's rmse: 0.420302\n",
      "[600]\tvalid_0's rmse: 0.419489\n",
      "Early stopping, best iteration is:\n",
      "[586]\tvalid_0's rmse: 0.419313\n",
      "Training until validation scores don't improve for 60 rounds\n",
      "[200]\tvalid_0's rmse: 0.473372\n",
      "[400]\tvalid_0's rmse: 0.456057\n",
      "[600]\tvalid_0's rmse: 0.452313\n",
      "[800]\tvalid_0's rmse: 0.449707\n",
      "[1000]\tvalid_0's rmse: 0.447385\n",
      "[1200]\tvalid_0's rmse: 0.446163\n",
      "Early stopping, best iteration is:\n",
      "[1245]\tvalid_0's rmse: 0.445648\n",
      "Training until validation scores don't improve for 60 rounds\n",
      "[200]\tvalid_0's rmse: 0.45936\n",
      "[400]\tvalid_0's rmse: 0.451181\n",
      "[600]\tvalid_0's rmse: 0.446101\n",
      "[800]\tvalid_0's rmse: 0.443772\n",
      "[1000]\tvalid_0's rmse: 0.442798\n",
      "Early stopping, best iteration is:\n",
      "[1126]\tvalid_0's rmse: 0.442413\n",
      "Training until validation scores don't improve for 60 rounds\n",
      "[200]\tvalid_0's rmse: 0.432566\n",
      "[400]\tvalid_0's rmse: 0.423554\n",
      "[600]\tvalid_0's rmse: 0.420445\n",
      "[800]\tvalid_0's rmse: 0.416429\n",
      "[1000]\tvalid_0's rmse: 0.414887\n",
      "[1200]\tvalid_0's rmse: 0.413294\n",
      "[1400]\tvalid_0's rmse: 0.412357\n",
      "Early stopping, best iteration is:\n",
      "[1447]\tvalid_0's rmse: 0.411828\n",
      "[I 2024-04-05 20:55:26,612] Trial 3 finished with value: 0.1852992172025031 and parameters: {'reg_alpha': 0.12550303600217136, 'reg_lambda': 0.01906669239598839, 'colsample_bytree': 1.0, 'subsample': 0.8, 'learning_rate': 0.017, 'max_depth': 20, 'num_leaves': 491, 'min_child_samples': 239, 'min_data_per_groups': 43}. Best is trial 2 with value: 0.19251060133554954.\n",
      "Current value: 0.1852992172025031, Current params: {'reg_alpha': 0.12550303600217136, 'reg_lambda': 0.01906669239598839, 'colsample_bytree': 1.0, 'subsample': 0.8, 'learning_rate': 0.017, 'max_depth': 20, 'num_leaves': 491, 'min_child_samples': 239, 'min_data_per_groups': 43}\n",
      "Study 'optuna' saved to file.\n"
     ]
    },
    {
     "name": "stderr",
     "output_type": "stream",
     "text": [
      "/tmp/ipykernel_10335/418579513.py:8: FutureWarning: suggest_loguniform has been deprecated in v3.0.0. This feature will be removed in v6.0.0. See https://github.com/optuna/optuna/releases/tag/v3.0.0. Use suggest_float(..., log=True) instead.\n",
      "  'reg_alpha': trial.suggest_loguniform('reg_alpha', 1e-3, 10.0),\n",
      "/tmp/ipykernel_10335/418579513.py:9: FutureWarning: suggest_loguniform has been deprecated in v3.0.0. This feature will be removed in v6.0.0. See https://github.com/optuna/optuna/releases/tag/v3.0.0. Use suggest_float(..., log=True) instead.\n",
      "  'reg_lambda': trial.suggest_loguniform('reg_lambda', 1e-3, 10.0),\n"
     ]
    },
    {
     "data": {
      "application/vnd.jupyter.widget-view+json": {
       "model_id": "0ee78d9af7a84a5c940be16be63d3610",
       "version_major": 2,
       "version_minor": 0
      },
      "text/plain": [
       "  0%|          | 0/5 [00:00<?, ?it/s]"
      ]
     },
     "metadata": {},
     "output_type": "display_data"
    },
    {
     "name": "stdout",
     "output_type": "stream",
     "text": [
      "Training until validation scores don't improve for 60 rounds\n",
      "[200]\tvalid_0's rmse: 0.456218\n",
      "[400]\tvalid_0's rmse: 0.429179\n",
      "[600]\tvalid_0's rmse: 0.422692\n",
      "[800]\tvalid_0's rmse: 0.419202\n",
      "[1000]\tvalid_0's rmse: 0.417955\n",
      "[1200]\tvalid_0's rmse: 0.416488\n",
      "[1400]\tvalid_0's rmse: 0.415011\n",
      "Early stopping, best iteration is:\n",
      "[1405]\tvalid_0's rmse: 0.414822\n",
      "Training until validation scores don't improve for 60 rounds\n",
      "[200]\tvalid_0's rmse: 0.443573\n",
      "[400]\tvalid_0's rmse: 0.415242\n",
      "[600]\tvalid_0's rmse: 0.411181\n",
      "Early stopping, best iteration is:\n",
      "[637]\tvalid_0's rmse: 0.410828\n",
      "Training until validation scores don't improve for 60 rounds\n",
      "[200]\tvalid_0's rmse: 0.474485\n",
      "[400]\tvalid_0's rmse: 0.4404\n",
      "[600]\tvalid_0's rmse: 0.433192\n",
      "[800]\tvalid_0's rmse: 0.429443\n",
      "[1000]\tvalid_0's rmse: 0.427663\n",
      "[1200]\tvalid_0's rmse: 0.426276\n",
      "[1400]\tvalid_0's rmse: 0.425999\n",
      "Early stopping, best iteration is:\n",
      "[1373]\tvalid_0's rmse: 0.425711\n",
      "Training until validation scores don't improve for 60 rounds\n",
      "[200]\tvalid_0's rmse: 0.443153\n",
      "[400]\tvalid_0's rmse: 0.424942\n",
      "[600]\tvalid_0's rmse: 0.423337\n",
      "[800]\tvalid_0's rmse: 0.420906\n",
      "[1000]\tvalid_0's rmse: 0.419723\n",
      "[1200]\tvalid_0's rmse: 0.419167\n",
      "Early stopping, best iteration is:\n",
      "[1296]\tvalid_0's rmse: 0.418981\n",
      "Training until validation scores don't improve for 60 rounds\n",
      "[200]\tvalid_0's rmse: 0.432308\n",
      "[400]\tvalid_0's rmse: 0.404394\n",
      "[600]\tvalid_0's rmse: 0.398421\n",
      "[800]\tvalid_0's rmse: 0.396203\n",
      "[1000]\tvalid_0's rmse: 0.393999\n",
      "Early stopping, best iteration is:\n",
      "[997]\tvalid_0's rmse: 0.393894\n",
      "[I 2024-04-05 20:55:28,915] Trial 4 finished with value: 0.17055697551981652 and parameters: {'reg_alpha': 1.5200894121453412, 'reg_lambda': 4.463190977896789, 'colsample_bytree': 0.5, 'subsample': 0.8, 'learning_rate': 0.02, 'max_depth': 20, 'num_leaves': 968, 'min_child_samples': 165, 'min_data_per_groups': 3}. Best is trial 2 with value: 0.19251060133554954.\n",
      "Current value: 0.17055697551981652, Current params: {'reg_alpha': 1.5200894121453412, 'reg_lambda': 4.463190977896789, 'colsample_bytree': 0.5, 'subsample': 0.8, 'learning_rate': 0.02, 'max_depth': 20, 'num_leaves': 968, 'min_child_samples': 165, 'min_data_per_groups': 3}\n",
      "Study 'optuna' saved to file.\n"
     ]
    },
    {
     "name": "stderr",
     "output_type": "stream",
     "text": [
      "/tmp/ipykernel_10335/418579513.py:8: FutureWarning: suggest_loguniform has been deprecated in v3.0.0. This feature will be removed in v6.0.0. See https://github.com/optuna/optuna/releases/tag/v3.0.0. Use suggest_float(..., log=True) instead.\n",
      "  'reg_alpha': trial.suggest_loguniform('reg_alpha', 1e-3, 10.0),\n",
      "/tmp/ipykernel_10335/418579513.py:9: FutureWarning: suggest_loguniform has been deprecated in v3.0.0. This feature will be removed in v6.0.0. See https://github.com/optuna/optuna/releases/tag/v3.0.0. Use suggest_float(..., log=True) instead.\n",
      "  'reg_lambda': trial.suggest_loguniform('reg_lambda', 1e-3, 10.0),\n"
     ]
    },
    {
     "data": {
      "application/vnd.jupyter.widget-view+json": {
       "model_id": "99beee5ae6ca47f9bf238bf09e01f091",
       "version_major": 2,
       "version_minor": 0
      },
      "text/plain": [
       "  0%|          | 0/5 [00:00<?, ?it/s]"
      ]
     },
     "metadata": {},
     "output_type": "display_data"
    },
    {
     "name": "stdout",
     "output_type": "stream",
     "text": [
      "Training until validation scores don't improve for 60 rounds\n",
      "[200]\tvalid_0's rmse: 0.469946\n",
      "[400]\tvalid_0's rmse: 0.449291\n",
      "[600]\tvalid_0's rmse: 0.442998\n",
      "[800]\tvalid_0's rmse: 0.439146\n",
      "[1000]\tvalid_0's rmse: 0.437508\n",
      "[1200]\tvalid_0's rmse: 0.435623\n",
      "[1400]\tvalid_0's rmse: 0.434506\n",
      "[1600]\tvalid_0's rmse: 0.433242\n",
      "[1800]\tvalid_0's rmse: 0.432141\n",
      "[2000]\tvalid_0's rmse: 0.431279\n",
      "Early stopping, best iteration is:\n",
      "[2031]\tvalid_0's rmse: 0.431162\n",
      "Training until validation scores don't improve for 60 rounds\n",
      "[200]\tvalid_0's rmse: 0.453932\n",
      "[400]\tvalid_0's rmse: 0.434012\n",
      "[600]\tvalid_0's rmse: 0.429318\n",
      "[800]\tvalid_0's rmse: 0.426729\n",
      "[1000]\tvalid_0's rmse: 0.425541\n",
      "Early stopping, best iteration is:\n",
      "[1072]\tvalid_0's rmse: 0.425171\n",
      "Training until validation scores don't improve for 60 rounds\n",
      "[200]\tvalid_0's rmse: 0.495552\n",
      "[400]\tvalid_0's rmse: 0.472153\n",
      "[600]\tvalid_0's rmse: 0.466904\n",
      "[800]\tvalid_0's rmse: 0.464745\n",
      "[1000]\tvalid_0's rmse: 0.462774\n",
      "[1200]\tvalid_0's rmse: 0.461387\n",
      "[1400]\tvalid_0's rmse: 0.460441\n",
      "[1600]\tvalid_0's rmse: 0.45981\n",
      "Early stopping, best iteration is:\n",
      "[1694]\tvalid_0's rmse: 0.459599\n",
      "Training until validation scores don't improve for 60 rounds\n",
      "[200]\tvalid_0's rmse: 0.466838\n",
      "[400]\tvalid_0's rmse: 0.454936\n",
      "[600]\tvalid_0's rmse: 0.450613\n",
      "[800]\tvalid_0's rmse: 0.447977\n",
      "[1000]\tvalid_0's rmse: 0.446342\n",
      "[1200]\tvalid_0's rmse: 0.444728\n",
      "[1400]\tvalid_0's rmse: 0.443558\n",
      "Early stopping, best iteration is:\n",
      "[1503]\tvalid_0's rmse: 0.443416\n",
      "Training until validation scores don't improve for 60 rounds\n",
      "[200]\tvalid_0's rmse: 0.452602\n",
      "[400]\tvalid_0's rmse: 0.435655\n",
      "[600]\tvalid_0's rmse: 0.430796\n",
      "[800]\tvalid_0's rmse: 0.42706\n",
      "[1000]\tvalid_0's rmse: 0.425488\n",
      "[1200]\tvalid_0's rmse: 0.423612\n",
      "[1400]\tvalid_0's rmse: 0.422318\n",
      "[1600]\tvalid_0's rmse: 0.421184\n",
      "[1800]\tvalid_0's rmse: 0.420443\n",
      "Early stopping, best iteration is:\n",
      "[1929]\tvalid_0's rmse: 0.42021\n",
      "[I 2024-04-05 20:55:31,266] Trial 5 finished with value: 0.190219459863984 and parameters: {'reg_alpha': 3.115047391683664, 'reg_lambda': 1.393128889407288, 'colsample_bytree': 0.6, 'subsample': 0.6, 'learning_rate': 0.02, 'max_depth': 10, 'num_leaves': 934, 'min_child_samples': 251, 'min_data_per_groups': 56}. Best is trial 2 with value: 0.19251060133554954.\n",
      "Current value: 0.190219459863984, Current params: {'reg_alpha': 3.115047391683664, 'reg_lambda': 1.393128889407288, 'colsample_bytree': 0.6, 'subsample': 0.6, 'learning_rate': 0.02, 'max_depth': 10, 'num_leaves': 934, 'min_child_samples': 251, 'min_data_per_groups': 56}\n",
      "Study 'optuna' saved to file.\n"
     ]
    },
    {
     "name": "stderr",
     "output_type": "stream",
     "text": [
      "/tmp/ipykernel_10335/418579513.py:8: FutureWarning: suggest_loguniform has been deprecated in v3.0.0. This feature will be removed in v6.0.0. See https://github.com/optuna/optuna/releases/tag/v3.0.0. Use suggest_float(..., log=True) instead.\n",
      "  'reg_alpha': trial.suggest_loguniform('reg_alpha', 1e-3, 10.0),\n",
      "/tmp/ipykernel_10335/418579513.py:9: FutureWarning: suggest_loguniform has been deprecated in v3.0.0. This feature will be removed in v6.0.0. See https://github.com/optuna/optuna/releases/tag/v3.0.0. Use suggest_float(..., log=True) instead.\n",
      "  'reg_lambda': trial.suggest_loguniform('reg_lambda', 1e-3, 10.0),\n"
     ]
    },
    {
     "data": {
      "application/vnd.jupyter.widget-view+json": {
       "model_id": "a081cd8ff4ab4da29025b879533063f3",
       "version_major": 2,
       "version_minor": 0
      },
      "text/plain": [
       "  0%|          | 0/5 [00:00<?, ?it/s]"
      ]
     },
     "metadata": {},
     "output_type": "display_data"
    },
    {
     "name": "stdout",
     "output_type": "stream",
     "text": [
      "Training until validation scores don't improve for 60 rounds\n",
      "[200]\tvalid_0's rmse: 0.499189\n",
      "[400]\tvalid_0's rmse: 0.424674\n",
      "[600]\tvalid_0's rmse: 0.408244\n",
      "[800]\tvalid_0's rmse: 0.402268\n",
      "[1000]\tvalid_0's rmse: 0.399629\n",
      "[1200]\tvalid_0's rmse: 0.398332\n",
      "[1400]\tvalid_0's rmse: 0.397217\n",
      "[1600]\tvalid_0's rmse: 0.395715\n",
      "[1800]\tvalid_0's rmse: 0.395278\n",
      "Early stopping, best iteration is:\n",
      "[1761]\tvalid_0's rmse: 0.395188\n",
      "Training until validation scores don't improve for 60 rounds\n",
      "[200]\tvalid_0's rmse: 0.4719\n",
      "[400]\tvalid_0's rmse: 0.394072\n",
      "[600]\tvalid_0's rmse: 0.385059\n",
      "Early stopping, best iteration is:\n",
      "[649]\tvalid_0's rmse: 0.384579\n",
      "Training until validation scores don't improve for 60 rounds\n",
      "[200]\tvalid_0's rmse: 0.530673\n",
      "[400]\tvalid_0's rmse: 0.452309\n",
      "[600]\tvalid_0's rmse: 0.432603\n",
      "[800]\tvalid_0's rmse: 0.425043\n",
      "[1000]\tvalid_0's rmse: 0.42053\n",
      "[1200]\tvalid_0's rmse: 0.418256\n",
      "[1400]\tvalid_0's rmse: 0.416873\n",
      "[1600]\tvalid_0's rmse: 0.41582\n",
      "Early stopping, best iteration is:\n",
      "[1619]\tvalid_0's rmse: 0.415704\n",
      "Training until validation scores don't improve for 60 rounds\n"
     ]
    }
   ],
   "source": [
    "import optuna\n",
    "\n",
    "def objective(trial):\n",
    "    params = {\n",
    "            'metric': 'rmse', \n",
    "            'random_state': 48,\n",
    "            'n_estimators': 20000,\n",
    "            'reg_alpha': trial.suggest_loguniform('reg_alpha', 1e-3, 10.0),\n",
    "            'reg_lambda': trial.suggest_loguniform('reg_lambda', 1e-3, 10.0),\n",
    "            'colsample_bytree': trial.suggest_categorical('colsample_bytree', [0.3,0.4,0.5,0.6,0.7,0.8,0.9, 1.0]),\n",
    "            'subsample': trial.suggest_categorical('subsample', [0.4,0.5,0.6,0.7,0.8,1.0]),\n",
    "            'learning_rate': trial.suggest_categorical('learning_rate', [0.006,0.008,0.01,0.014,0.017,0.02]),\n",
    "            'max_depth': trial.suggest_categorical('max_depth', [10,20,100]),\n",
    "            'num_leaves' : trial.suggest_int('num_leaves', 1, 1000),\n",
    "            'min_child_samples': trial.suggest_int('min_child_samples', 1, 300),\n",
    "            'cat_smooth' : trial.suggest_int('min_data_per_groups', 1, 100),\n",
    "            'verbose': -1\n",
    "        }\n",
    "\n",
    "    model, cv_scores = train(params)\n",
    "\n",
    "    #print(f'======= Mean of scores: {np.mean(cv_scores):.3f}±{2*np.std(cv_scores):.3f} =======')\n",
    "    return np.mean(cv_scores)\n",
    "\n",
    "\n",
    "study_name = 'optuna'\n",
    "study = create_or_load_study(study_name)\n",
    "\n",
    "def print_callback(study, trial):\n",
    "    print(f\"Current value: {trial.value}, Current params: {trial.params}\")\n",
    "    #print(f\"Best value: {study.best_value}, Best params: {trial.best_trial.params}\")\n",
    "\n",
    "    study_df = study.trials_dataframe()\n",
    "    save_study(study, study_name)\n",
    "    study_df.to_csv('optuna.csv', index=False)\n",
    "\n",
    "\n",
    "study.optimize(objective, n_trials=40, callbacks=[print_callback], n_jobs=1, show_progress_bar=True)"
   ]
  },
  {
   "cell_type": "code",
   "execution_count": null,
   "id": "87814575",
   "metadata": {},
   "outputs": [],
   "source": [
    "params = {\n",
    "        'metric': 'rmse', \n",
    "        'random_state': 48,\n",
    "        'n_estimators': 20000,\n",
    "        #'reg_alpha': trial.suggest_loguniform('reg_alpha', 1e-3, 10.0),\n",
    "        #'reg_lambda': trial.suggest_loguniform('reg_lambda', 1e-3, 10.0),\n",
    "        #'colsample_bytree': trial.suggest_categorical('colsample_bytree', [0.3,0.4,0.5,0.6,0.7,0.8,0.9, 1.0]),\n",
    "        #'subsample': trial.suggest_categorical('subsample', [0.4,0.5,0.6,0.7,0.8,1.0]),\n",
    "        #'learning_rate': trial.suggest_categorical('learning_rate', [0.006,0.008,0.01,0.014,0.017,0.02]),\n",
    "        #'max_depth': trial.suggest_categorical('max_depth', [10,20,100]),\n",
    "        #'num_leaves' : trial.suggest_int('num_leaves', 1, 1000),\n",
    "        #'min_child_samples': trial.suggest_int('min_child_samples', 1, 300),\n",
    "        #'cat_smooth' : trial.suggest_int('min_data_per_groups', 1, 100),\n",
    "        'verbose': -1\n",
    "\n",
    "    }\n",
    "    \n",
    "model, cv_scores = train(params)"
   ]
  },
  {
   "cell_type": "code",
   "execution_count": null,
   "id": "2897d8aa",
   "metadata": {},
   "outputs": [],
   "source": [
    "f'{np.mean(cv_scores): .4f} ± {2*np.std(cv_scores): .4f}' # before 0.8577 ± 0.0048"
   ]
  },
  {
   "cell_type": "markdown",
   "id": "f3a196e5",
   "metadata": {},
   "source": [
    "## Feature Importance"
   ]
  },
  {
   "cell_type": "code",
   "execution_count": null,
   "id": "25963ad4",
   "metadata": {},
   "outputs": [],
   "source": [
    "import shap\n",
    "\n",
    "shap_acc = None\n",
    "X_acc = None\n",
    "\n",
    "for i, (idx_train, idx_valid) in tqdm(enumerate(cv.split(X, y)), total=n_splits):\n",
    "    X_train, y_train = X.iloc[idx_train], y.iloc[idx_train]\n",
    "    X_valid, y_valid = X.iloc[idx_valid], y.iloc[idx_valid]\n",
    "    \n",
    "    explainer = shap.TreeExplainer(model.estimators[i])\n",
    "    shap_values = explainer.shap_values(X_train)\n",
    "    \n",
    "    if shap_acc is not None:\n",
    "        shap_acc = np.concatenate([shap_acc, shap_values])\n",
    "    else:\n",
    "        shap_acc = shap_values\n",
    "    \n",
    "    if X_acc is not None:\n",
    "        X_acc = pd.concat([X_acc, X_train])\n",
    "    else:\n",
    "        X_acc = X_train"
   ]
  },
  {
   "cell_type": "code",
   "execution_count": null,
   "id": "afbc0e2d",
   "metadata": {},
   "outputs": [],
   "source": [
    "X.shape"
   ]
  },
  {
   "cell_type": "code",
   "execution_count": null,
   "id": "7c5215e0",
   "metadata": {},
   "outputs": [],
   "source": [
    "shap.summary_plot(shap_acc, X_acc)"
   ]
  }
 ],
 "metadata": {
  "kernelspec": {
   "display_name": "Python 3 (ipykernel)",
   "language": "python",
   "name": "python3"
  },
  "language_info": {
   "codemirror_mode": {
    "name": "ipython",
    "version": 3
   },
   "file_extension": ".py",
   "mimetype": "text/x-python",
   "name": "python",
   "nbconvert_exporter": "python",
   "pygments_lexer": "ipython3",
   "version": "3.10.9"
  }
 },
 "nbformat": 4,
 "nbformat_minor": 5
}
