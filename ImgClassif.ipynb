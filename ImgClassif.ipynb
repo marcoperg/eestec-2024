{
 "cells": [
  {
   "cell_type": "code",
   "execution_count": 2,
   "id": "19ed6269",
   "metadata": {},
   "outputs": [],
   "source": [
    "from pathlib import Path\n",
    "import os\n",
    "\n",
    "import numpy as np\n",
    "\n",
    "import torch\n",
    "from torch import nn\n",
    "import timm\n",
    "from skimage import io, transform\n",
    "\n",
    "from torch.utils.data import Dataset, DataLoader\n",
    "from torchvision import transforms, utils\n",
    "from matplotlib import pyplot as plt\n",
    "from sklearn.model_selection import KFold\n",
    "from sklearn.base import BaseEstimator, RegressorMixin\n",
    "\n",
    "import pandas as pd\n",
    "\n",
    "from sklearn import metrics\n",
    "\n",
    "from tqdm.auto import trange, tqdm\n",
    "\n",
    "import joblib\n",
    "\n",
    "import warnings\n",
    "warnings.filterwarnings(\"ignore\")\n",
    "\n",
    "dev = 'cuda' if torch.cuda.is_available() else 'cpu'"
   ]
  },
  {
   "cell_type": "code",
   "execution_count": 3,
   "id": "4501ca89",
   "metadata": {},
   "outputs": [],
   "source": [
    "DATA_ROOT   = Path('./data')\n",
    "WORKING_DIR = Path('./')\n",
    "STUDY_PATH = WORKING_DIR / 'studies'"
   ]
  },
  {
   "cell_type": "code",
   "execution_count": 4,
   "id": "c23369b5",
   "metadata": {},
   "outputs": [],
   "source": [
    "X = pd.read_csv(DATA_ROOT / 'X_train.csv')\n",
    "y = pd.read_csv(DATA_ROOT / 'train_labels.csv')"
   ]
  },
  {
   "cell_type": "code",
   "execution_count": 5,
   "id": "f9bcf422",
   "metadata": {},
   "outputs": [],
   "source": [
    "def clean_tile(t):\n",
    "    t = t.replace('\\'', '_')\n",
    "    return ''.join(e for e in t if e.isalnum() or e in '- _¢·v)(')"
   ]
  },
  {
   "cell_type": "code",
   "execution_count": 6,
   "id": "45f40d4c",
   "metadata": {},
   "outputs": [],
   "source": [
    "y['title'] = [clean_tile(x) for x in X['movie_title']]"
   ]
  },
  {
   "cell_type": "code",
   "execution_count": 7,
   "id": "97dc872e",
   "metadata": {},
   "outputs": [
    {
     "data": {
      "text/plain": [
       "['Before Sunrise',\n",
       " 'The Life Before Her Eyes',\n",
       " 'Before Sunset',\n",
       " 'Me Before You',\n",
       " 'Before I Go to Sleep',\n",
       " 'Before Midnight']"
      ]
     },
     "execution_count": 7,
     "metadata": {},
     "output_type": "execute_result"
    }
   ],
   "source": [
    "[x for x in y['title'] if 'Before' in x]"
   ]
  },
  {
   "cell_type": "code",
   "execution_count": 8,
   "id": "f1a5294a",
   "metadata": {},
   "outputs": [],
   "source": [
    "class PostersDataset(Dataset):\n",
    "    \"\"\"Face Landmarks dataset.\"\"\"\n",
    "\n",
    "    def __init__(self, genres_csv, root_dir, transform=None):\n",
    "        \"\"\"\n",
    "        Arguments:\n",
    "            csv_file (string): Path to the csv file with annotations.\n",
    "            root_dir (string): Directory with all the images.\n",
    "            transform (callable, optional): Optional transform to be applied\n",
    "                on a sample.\n",
    "        \"\"\"\n",
    "        self.root_dir = root_dir\n",
    "        self.transform = transform\n",
    "        self.titles = np.array([f.split('.')[0] for f in os.listdir(root_dir)])\n",
    "        self.genres = genres_csv\n",
    "\n",
    "    def __len__(self):\n",
    "        return len(self.genres)\n",
    "\n",
    "    def __getitem__(self, idx):\n",
    "        if torch.is_tensor(idx) or isinstance(idx, np.ndarray):\n",
    "            idx = idx.tolist()\n",
    "\n",
    "        if not isinstance(idx, list):\n",
    "            idx = [idx]\n",
    "\n",
    "        out = []\n",
    "        for id_ in idx:\n",
    "            img_name = os.path.join(self.root_dir,\n",
    "                                    f'{self.titles[id_]}.jpg')\n",
    "            img = io.imread(img_name)\n",
    "\n",
    "            if self.transform:\n",
    "                img = self.transform(img)\n",
    "\n",
    "            y = self.genres[self.genres['title'] == self.titles[id_]].drop(['imdb_score', 'title'], axis=1).to_numpy()\n",
    "            \n",
    "            if len(y) == 0:\n",
    "                print(\"============\")\n",
    "                print(self.titles[idx])\n",
    "                print(\"============\")\n",
    "            out.append((img, y, self.titles[id_]))\n",
    "            \n",
    "        return out"
   ]
  },
  {
   "cell_type": "code",
   "execution_count": 9,
   "id": "b787f46b",
   "metadata": {},
   "outputs": [],
   "source": [
    "trasf = transforms.Compose([\n",
    "                                transforms.ToTensor(),\n",
    "                                transforms.Resize((224, 224)),\n",
    "                                transforms.RandomHorizontalFlip(),\n",
    "                            ])\n",
    "\n",
    "dataset = PostersDataset(y, DATA_ROOT / 'train_posters', transform=trasf)\n",
    "train_set, val_set = \\\n",
    "    torch.utils.data.random_split(dataset, [int(len(dataset) * .7), int(np.ceil(len(dataset) * .3))])\n",
    "                                             \n",
    "train_dtld = DataLoader(train_set, batch_size=64)\n",
    "test_dtld = DataLoader(val_set, batch_size=64)"
   ]
  },
  {
   "cell_type": "code",
   "execution_count": 10,
   "id": "80f3e3eb",
   "metadata": {},
   "outputs": [],
   "source": [
    "genres = dataset.genres.drop(['imdb_score', 'title'], axis=1).columns"
   ]
  },
  {
   "cell_type": "code",
   "execution_count": 11,
   "id": "78dd93cc",
   "metadata": {
    "scrolled": false
   },
   "outputs": [],
   "source": [
    "a = next(iter(train_dtld))"
   ]
  },
  {
   "cell_type": "code",
   "execution_count": 12,
   "id": "59a0c79c",
   "metadata": {},
   "outputs": [],
   "source": [
    "def imshow(img):\n",
    "    plt.imshow(torch.movedim(img, 0, 2))"
   ]
  },
  {
   "cell_type": "code",
   "execution_count": 13,
   "id": "096765dd",
   "metadata": {},
   "outputs": [],
   "source": [
    "class ImgClass(nn.Module):\n",
    "    def __init__(self):\n",
    "        super(ImgClass, self).__init__()\n",
    "        # self.input = nn.Conv2d(3, 3, 5, 1, 2)\n",
    "        self.resnet = timm.create_model('resnet34', pretrained=True)\n",
    "        self.output = nn.Linear(1000, 1)\n",
    "\n",
    "    def forward(self, x):\n",
    "        # x = self.input(x)\n",
    "        x = self.resnet(x)\n",
    "        return self.output(x).sigmoid()"
   ]
  },
  {
   "cell_type": "code",
   "execution_count": 14,
   "id": "fc65e39c",
   "metadata": {},
   "outputs": [],
   "source": [
    "n_splits = 5\n",
    "cv = KFold(n_splits=n_splits, shuffle=False)\n",
    "loss_fn = nn.BCELoss()"
   ]
  },
  {
   "cell_type": "code",
   "execution_count": 14,
   "id": "6b4b6f88",
   "metadata": {
    "scrolled": true
   },
   "outputs": [
    {
     "data": {
      "application/vnd.jupyter.widget-view+json": {
       "model_id": "7b2fd90a812c4228bd9c9f09d40a1391",
       "version_major": 2,
       "version_minor": 0
      },
      "text/plain": [
       "  0%|          | 0/5 [00:00<?, ?it/s]"
      ]
     },
     "metadata": {},
     "output_type": "display_data"
    },
    {
     "data": {
      "application/vnd.jupyter.widget-view+json": {
       "model_id": "",
       "version_major": 2,
       "version_minor": 0
      },
      "text/plain": [
       "  0%|          | 0/10 [00:00<?, ?it/s]"
      ]
     },
     "metadata": {},
     "output_type": "display_data"
    },
    {
     "data": {
      "application/vnd.jupyter.widget-view+json": {
       "model_id": "",
       "version_major": 2,
       "version_minor": 0
      },
      "text/plain": [
       "  0%|          | 0/37 [00:00<?, ?it/s]"
      ]
     },
     "metadata": {},
     "output_type": "display_data"
    },
    {
     "data": {
      "application/vnd.jupyter.widget-view+json": {
       "model_id": "",
       "version_major": 2,
       "version_minor": 0
      },
      "text/plain": [
       "  0%|          | 0/37 [00:00<?, ?it/s]"
      ]
     },
     "metadata": {},
     "output_type": "display_data"
    },
    {
     "data": {
      "application/vnd.jupyter.widget-view+json": {
       "model_id": "",
       "version_major": 2,
       "version_minor": 0
      },
      "text/plain": [
       "  0%|          | 0/37 [00:00<?, ?it/s]"
      ]
     },
     "metadata": {},
     "output_type": "display_data"
    },
    {
     "data": {
      "application/vnd.jupyter.widget-view+json": {
       "model_id": "",
       "version_major": 2,
       "version_minor": 0
      },
      "text/plain": [
       "  0%|          | 0/37 [00:00<?, ?it/s]"
      ]
     },
     "metadata": {},
     "output_type": "display_data"
    },
    {
     "data": {
      "application/vnd.jupyter.widget-view+json": {
       "model_id": "",
       "version_major": 2,
       "version_minor": 0
      },
      "text/plain": [
       "  0%|          | 0/37 [00:00<?, ?it/s]"
      ]
     },
     "metadata": {},
     "output_type": "display_data"
    },
    {
     "data": {
      "application/vnd.jupyter.widget-view+json": {
       "model_id": "",
       "version_major": 2,
       "version_minor": 0
      },
      "text/plain": [
       "  0%|          | 0/37 [00:00<?, ?it/s]"
      ]
     },
     "metadata": {},
     "output_type": "display_data"
    },
    {
     "data": {
      "application/vnd.jupyter.widget-view+json": {
       "model_id": "",
       "version_major": 2,
       "version_minor": 0
      },
      "text/plain": [
       "  0%|          | 0/37 [00:00<?, ?it/s]"
      ]
     },
     "metadata": {},
     "output_type": "display_data"
    },
    {
     "data": {
      "application/vnd.jupyter.widget-view+json": {
       "model_id": "",
       "version_major": 2,
       "version_minor": 0
      },
      "text/plain": [
       "  0%|          | 0/37 [00:00<?, ?it/s]"
      ]
     },
     "metadata": {},
     "output_type": "display_data"
    },
    {
     "data": {
      "application/vnd.jupyter.widget-view+json": {
       "model_id": "",
       "version_major": 2,
       "version_minor": 0
      },
      "text/plain": [
       "  0%|          | 0/37 [00:00<?, ?it/s]"
      ]
     },
     "metadata": {},
     "output_type": "display_data"
    },
    {
     "data": {
      "application/vnd.jupyter.widget-view+json": {
       "model_id": "",
       "version_major": 2,
       "version_minor": 0
      },
      "text/plain": [
       "  0%|          | 0/37 [00:00<?, ?it/s]"
      ]
     },
     "metadata": {},
     "output_type": "display_data"
    },
    {
     "data": {
      "application/vnd.jupyter.widget-view+json": {
       "model_id": "",
       "version_major": 2,
       "version_minor": 0
      },
      "text/plain": [
       "  0%|          | 0/10 [00:00<?, ?it/s]"
      ]
     },
     "metadata": {},
     "output_type": "display_data"
    },
    {
     "data": {
      "application/vnd.jupyter.widget-view+json": {
       "model_id": "",
       "version_major": 2,
       "version_minor": 0
      },
      "text/plain": [
       "  0%|          | 0/37 [00:00<?, ?it/s]"
      ]
     },
     "metadata": {},
     "output_type": "display_data"
    },
    {
     "data": {
      "application/vnd.jupyter.widget-view+json": {
       "model_id": "",
       "version_major": 2,
       "version_minor": 0
      },
      "text/plain": [
       "  0%|          | 0/37 [00:00<?, ?it/s]"
      ]
     },
     "metadata": {},
     "output_type": "display_data"
    },
    {
     "data": {
      "application/vnd.jupyter.widget-view+json": {
       "model_id": "",
       "version_major": 2,
       "version_minor": 0
      },
      "text/plain": [
       "  0%|          | 0/37 [00:00<?, ?it/s]"
      ]
     },
     "metadata": {},
     "output_type": "display_data"
    },
    {
     "data": {
      "application/vnd.jupyter.widget-view+json": {
       "model_id": "",
       "version_major": 2,
       "version_minor": 0
      },
      "text/plain": [
       "  0%|          | 0/37 [00:00<?, ?it/s]"
      ]
     },
     "metadata": {},
     "output_type": "display_data"
    },
    {
     "data": {
      "application/vnd.jupyter.widget-view+json": {
       "model_id": "",
       "version_major": 2,
       "version_minor": 0
      },
      "text/plain": [
       "  0%|          | 0/37 [00:00<?, ?it/s]"
      ]
     },
     "metadata": {},
     "output_type": "display_data"
    },
    {
     "data": {
      "application/vnd.jupyter.widget-view+json": {
       "model_id": "",
       "version_major": 2,
       "version_minor": 0
      },
      "text/plain": [
       "  0%|          | 0/37 [00:00<?, ?it/s]"
      ]
     },
     "metadata": {},
     "output_type": "display_data"
    },
    {
     "data": {
      "application/vnd.jupyter.widget-view+json": {
       "model_id": "",
       "version_major": 2,
       "version_minor": 0
      },
      "text/plain": [
       "  0%|          | 0/37 [00:00<?, ?it/s]"
      ]
     },
     "metadata": {},
     "output_type": "display_data"
    },
    {
     "data": {
      "application/vnd.jupyter.widget-view+json": {
       "model_id": "",
       "version_major": 2,
       "version_minor": 0
      },
      "text/plain": [
       "  0%|          | 0/37 [00:00<?, ?it/s]"
      ]
     },
     "metadata": {},
     "output_type": "display_data"
    },
    {
     "data": {
      "application/vnd.jupyter.widget-view+json": {
       "model_id": "",
       "version_major": 2,
       "version_minor": 0
      },
      "text/plain": [
       "  0%|          | 0/37 [00:00<?, ?it/s]"
      ]
     },
     "metadata": {},
     "output_type": "display_data"
    },
    {
     "data": {
      "application/vnd.jupyter.widget-view+json": {
       "model_id": "",
       "version_major": 2,
       "version_minor": 0
      },
      "text/plain": [
       "  0%|          | 0/37 [00:00<?, ?it/s]"
      ]
     },
     "metadata": {},
     "output_type": "display_data"
    },
    {
     "data": {
      "application/vnd.jupyter.widget-view+json": {
       "model_id": "",
       "version_major": 2,
       "version_minor": 0
      },
      "text/plain": [
       "  0%|          | 0/10 [00:00<?, ?it/s]"
      ]
     },
     "metadata": {},
     "output_type": "display_data"
    },
    {
     "data": {
      "application/vnd.jupyter.widget-view+json": {
       "model_id": "",
       "version_major": 2,
       "version_minor": 0
      },
      "text/plain": [
       "  0%|          | 0/37 [00:00<?, ?it/s]"
      ]
     },
     "metadata": {},
     "output_type": "display_data"
    },
    {
     "data": {
      "application/vnd.jupyter.widget-view+json": {
       "model_id": "",
       "version_major": 2,
       "version_minor": 0
      },
      "text/plain": [
       "  0%|          | 0/37 [00:00<?, ?it/s]"
      ]
     },
     "metadata": {},
     "output_type": "display_data"
    },
    {
     "data": {
      "application/vnd.jupyter.widget-view+json": {
       "model_id": "",
       "version_major": 2,
       "version_minor": 0
      },
      "text/plain": [
       "  0%|          | 0/37 [00:00<?, ?it/s]"
      ]
     },
     "metadata": {},
     "output_type": "display_data"
    },
    {
     "data": {
      "application/vnd.jupyter.widget-view+json": {
       "model_id": "",
       "version_major": 2,
       "version_minor": 0
      },
      "text/plain": [
       "  0%|          | 0/37 [00:00<?, ?it/s]"
      ]
     },
     "metadata": {},
     "output_type": "display_data"
    },
    {
     "data": {
      "application/vnd.jupyter.widget-view+json": {
       "model_id": "",
       "version_major": 2,
       "version_minor": 0
      },
      "text/plain": [
       "  0%|          | 0/37 [00:00<?, ?it/s]"
      ]
     },
     "metadata": {},
     "output_type": "display_data"
    },
    {
     "data": {
      "application/vnd.jupyter.widget-view+json": {
       "model_id": "",
       "version_major": 2,
       "version_minor": 0
      },
      "text/plain": [
       "  0%|          | 0/37 [00:00<?, ?it/s]"
      ]
     },
     "metadata": {},
     "output_type": "display_data"
    },
    {
     "data": {
      "application/vnd.jupyter.widget-view+json": {
       "model_id": "",
       "version_major": 2,
       "version_minor": 0
      },
      "text/plain": [
       "  0%|          | 0/37 [00:00<?, ?it/s]"
      ]
     },
     "metadata": {},
     "output_type": "display_data"
    },
    {
     "data": {
      "application/vnd.jupyter.widget-view+json": {
       "model_id": "",
       "version_major": 2,
       "version_minor": 0
      },
      "text/plain": [
       "  0%|          | 0/37 [00:00<?, ?it/s]"
      ]
     },
     "metadata": {},
     "output_type": "display_data"
    },
    {
     "data": {
      "application/vnd.jupyter.widget-view+json": {
       "model_id": "",
       "version_major": 2,
       "version_minor": 0
      },
      "text/plain": [
       "  0%|          | 0/37 [00:00<?, ?it/s]"
      ]
     },
     "metadata": {},
     "output_type": "display_data"
    },
    {
     "data": {
      "application/vnd.jupyter.widget-view+json": {
       "model_id": "",
       "version_major": 2,
       "version_minor": 0
      },
      "text/plain": [
       "  0%|          | 0/37 [00:00<?, ?it/s]"
      ]
     },
     "metadata": {},
     "output_type": "display_data"
    },
    {
     "data": {
      "application/vnd.jupyter.widget-view+json": {
       "model_id": "",
       "version_major": 2,
       "version_minor": 0
      },
      "text/plain": [
       "  0%|          | 0/10 [00:00<?, ?it/s]"
      ]
     },
     "metadata": {},
     "output_type": "display_data"
    },
    {
     "data": {
      "application/vnd.jupyter.widget-view+json": {
       "model_id": "",
       "version_major": 2,
       "version_minor": 0
      },
      "text/plain": [
       "  0%|          | 0/37 [00:00<?, ?it/s]"
      ]
     },
     "metadata": {},
     "output_type": "display_data"
    },
    {
     "data": {
      "application/vnd.jupyter.widget-view+json": {
       "model_id": "",
       "version_major": 2,
       "version_minor": 0
      },
      "text/plain": [
       "  0%|          | 0/37 [00:00<?, ?it/s]"
      ]
     },
     "metadata": {},
     "output_type": "display_data"
    },
    {
     "data": {
      "application/vnd.jupyter.widget-view+json": {
       "model_id": "",
       "version_major": 2,
       "version_minor": 0
      },
      "text/plain": [
       "  0%|          | 0/37 [00:00<?, ?it/s]"
      ]
     },
     "metadata": {},
     "output_type": "display_data"
    },
    {
     "data": {
      "application/vnd.jupyter.widget-view+json": {
       "model_id": "",
       "version_major": 2,
       "version_minor": 0
      },
      "text/plain": [
       "  0%|          | 0/37 [00:00<?, ?it/s]"
      ]
     },
     "metadata": {},
     "output_type": "display_data"
    },
    {
     "data": {
      "application/vnd.jupyter.widget-view+json": {
       "model_id": "",
       "version_major": 2,
       "version_minor": 0
      },
      "text/plain": [
       "  0%|          | 0/37 [00:00<?, ?it/s]"
      ]
     },
     "metadata": {},
     "output_type": "display_data"
    },
    {
     "data": {
      "application/vnd.jupyter.widget-view+json": {
       "model_id": "",
       "version_major": 2,
       "version_minor": 0
      },
      "text/plain": [
       "  0%|          | 0/37 [00:00<?, ?it/s]"
      ]
     },
     "metadata": {},
     "output_type": "display_data"
    },
    {
     "data": {
      "application/vnd.jupyter.widget-view+json": {
       "model_id": "",
       "version_major": 2,
       "version_minor": 0
      },
      "text/plain": [
       "  0%|          | 0/37 [00:00<?, ?it/s]"
      ]
     },
     "metadata": {},
     "output_type": "display_data"
    },
    {
     "data": {
      "application/vnd.jupyter.widget-view+json": {
       "model_id": "",
       "version_major": 2,
       "version_minor": 0
      },
      "text/plain": [
       "  0%|          | 0/37 [00:00<?, ?it/s]"
      ]
     },
     "metadata": {},
     "output_type": "display_data"
    },
    {
     "data": {
      "application/vnd.jupyter.widget-view+json": {
       "model_id": "",
       "version_major": 2,
       "version_minor": 0
      },
      "text/plain": [
       "  0%|          | 0/37 [00:00<?, ?it/s]"
      ]
     },
     "metadata": {},
     "output_type": "display_data"
    },
    {
     "data": {
      "application/vnd.jupyter.widget-view+json": {
       "model_id": "",
       "version_major": 2,
       "version_minor": 0
      },
      "text/plain": [
       "  0%|          | 0/37 [00:00<?, ?it/s]"
      ]
     },
     "metadata": {},
     "output_type": "display_data"
    },
    {
     "data": {
      "application/vnd.jupyter.widget-view+json": {
       "model_id": "",
       "version_major": 2,
       "version_minor": 0
      },
      "text/plain": [
       "  0%|          | 0/10 [00:00<?, ?it/s]"
      ]
     },
     "metadata": {},
     "output_type": "display_data"
    },
    {
     "data": {
      "application/vnd.jupyter.widget-view+json": {
       "model_id": "",
       "version_major": 2,
       "version_minor": 0
      },
      "text/plain": [
       "  0%|          | 0/37 [00:00<?, ?it/s]"
      ]
     },
     "metadata": {},
     "output_type": "display_data"
    },
    {
     "data": {
      "application/vnd.jupyter.widget-view+json": {
       "model_id": "",
       "version_major": 2,
       "version_minor": 0
      },
      "text/plain": [
       "  0%|          | 0/37 [00:00<?, ?it/s]"
      ]
     },
     "metadata": {},
     "output_type": "display_data"
    },
    {
     "data": {
      "application/vnd.jupyter.widget-view+json": {
       "model_id": "",
       "version_major": 2,
       "version_minor": 0
      },
      "text/plain": [
       "  0%|          | 0/37 [00:00<?, ?it/s]"
      ]
     },
     "metadata": {},
     "output_type": "display_data"
    },
    {
     "data": {
      "application/vnd.jupyter.widget-view+json": {
       "model_id": "",
       "version_major": 2,
       "version_minor": 0
      },
      "text/plain": [
       "  0%|          | 0/37 [00:00<?, ?it/s]"
      ]
     },
     "metadata": {},
     "output_type": "display_data"
    },
    {
     "data": {
      "application/vnd.jupyter.widget-view+json": {
       "model_id": "",
       "version_major": 2,
       "version_minor": 0
      },
      "text/plain": [
       "  0%|          | 0/37 [00:00<?, ?it/s]"
      ]
     },
     "metadata": {},
     "output_type": "display_data"
    },
    {
     "data": {
      "application/vnd.jupyter.widget-view+json": {
       "model_id": "",
       "version_major": 2,
       "version_minor": 0
      },
      "text/plain": [
       "  0%|          | 0/37 [00:00<?, ?it/s]"
      ]
     },
     "metadata": {},
     "output_type": "display_data"
    },
    {
     "data": {
      "application/vnd.jupyter.widget-view+json": {
       "model_id": "",
       "version_major": 2,
       "version_minor": 0
      },
      "text/plain": [
       "  0%|          | 0/37 [00:00<?, ?it/s]"
      ]
     },
     "metadata": {},
     "output_type": "display_data"
    },
    {
     "data": {
      "application/vnd.jupyter.widget-view+json": {
       "model_id": "",
       "version_major": 2,
       "version_minor": 0
      },
      "text/plain": [
       "  0%|          | 0/37 [00:00<?, ?it/s]"
      ]
     },
     "metadata": {},
     "output_type": "display_data"
    },
    {
     "data": {
      "application/vnd.jupyter.widget-view+json": {
       "model_id": "",
       "version_major": 2,
       "version_minor": 0
      },
      "text/plain": [
       "  0%|          | 0/37 [00:00<?, ?it/s]"
      ]
     },
     "metadata": {},
     "output_type": "display_data"
    },
    {
     "data": {
      "application/vnd.jupyter.widget-view+json": {
       "model_id": "",
       "version_major": 2,
       "version_minor": 0
      },
      "text/plain": [
       "  0%|          | 0/37 [00:00<?, ?it/s]"
      ]
     },
     "metadata": {},
     "output_type": "display_data"
    }
   ],
   "source": [
    "N_EPOCHS = 10\n",
    "\n",
    "train_losses = [[] for _ in range(19)]\n",
    "train_accs = [[] for _ in range(19)]\n",
    "\n",
    "test_losses = [[] for _ in range(19)]\n",
    "test_accs = [[] for _ in range(19)]\n",
    "trained_models = []\n",
    "\n",
    "for i, (train_idx, test_idx) in tqdm(enumerate(cv.split(dataset)), total=n_splits):\n",
    "    train_dtld = DataLoader(dataset[train_idx], batch_size=64, shuffle=False)\n",
    "    test_dtld = DataLoader(dataset[test_idx], batch_size=64, shuffle=False)\n",
    "    \n",
    "    \n",
    "    models = [ImgClass().to(dev) for _ in range(19)]\n",
    "    optims = [torch.optim.Adam(models[i].parameters(), lr=1e-3) for i in range(19)]\n",
    "\n",
    "\n",
    "    for epoch in trange(N_EPOCHS, leave=False):\n",
    "        ## TRAIN\n",
    "        accs = [[] for _ in range(19)]\n",
    "        losses = [[] for _ in range(19)]\n",
    "\n",
    "        for X, y, _ in tqdm(train_dtld, leave=False):\n",
    "            for i, model in enumerate(models):\n",
    "                X, y = X.to(dev), y.to(dev)\n",
    "                y_pred = model(X)\n",
    "\n",
    "                loss = loss_fn(y_pred, y[:, :, i].float())\n",
    "\n",
    "                acc = metrics.accuracy_score(y[:, :, i].cpu().detach().numpy(), y_pred.cpu().detach().numpy() > 0.5)\n",
    "\n",
    "                model.zero_grad()\n",
    "                loss.backward()\n",
    "                optims[i].step()\n",
    "\n",
    "                losses[i].append(loss.item())\n",
    "                accs[i].append(acc)\n",
    "        for acc, loss in zip(accs, losses):\n",
    "            train_accs[i].append(np.mean(acc))\n",
    "            train_losses[i].append(np.mean(loss))\n",
    "\n",
    "    trained_models.append(models)"
   ]
  },
  {
   "cell_type": "code",
   "execution_count": 27,
   "id": "2ef34416",
   "metadata": {
    "scrolled": true
   },
   "outputs": [
    {
     "data": {
      "application/vnd.jupyter.widget-view+json": {
       "model_id": "b65b595273ae42568241eddde25b5864",
       "version_major": 2,
       "version_minor": 0
      },
      "text/plain": [
       "  0%|          | 0/5 [00:00<?, ?it/s]"
      ]
     },
     "metadata": {},
     "output_type": "display_data"
    },
    {
     "data": {
      "application/vnd.jupyter.widget-view+json": {
       "model_id": "",
       "version_major": 2,
       "version_minor": 0
      },
      "text/plain": [
       "  0%|          | 0/10 [00:00<?, ?it/s]"
      ]
     },
     "metadata": {},
     "output_type": "display_data"
    },
    {
     "data": {
      "application/vnd.jupyter.widget-view+json": {
       "model_id": "",
       "version_major": 2,
       "version_minor": 0
      },
      "text/plain": [
       "  0%|          | 0/10 [00:00<?, ?it/s]"
      ]
     },
     "metadata": {},
     "output_type": "display_data"
    },
    {
     "data": {
      "application/vnd.jupyter.widget-view+json": {
       "model_id": "",
       "version_major": 2,
       "version_minor": 0
      },
      "text/plain": [
       "  0%|          | 0/10 [00:00<?, ?it/s]"
      ]
     },
     "metadata": {},
     "output_type": "display_data"
    },
    {
     "data": {
      "application/vnd.jupyter.widget-view+json": {
       "model_id": "",
       "version_major": 2,
       "version_minor": 0
      },
      "text/plain": [
       "  0%|          | 0/10 [00:00<?, ?it/s]"
      ]
     },
     "metadata": {},
     "output_type": "display_data"
    },
    {
     "data": {
      "application/vnd.jupyter.widget-view+json": {
       "model_id": "",
       "version_major": 2,
       "version_minor": 0
      },
      "text/plain": [
       "  0%|          | 0/10 [00:00<?, ?it/s]"
      ]
     },
     "metadata": {},
     "output_type": "display_data"
    }
   ],
   "source": [
    "oofs = [[] for _ in range(19)]\n",
    "titles = [[] for _ in range(19)]\n",
    "\n",
    "accs = [[] for _ in range(19)]\n",
    "losses = [[] for _ in range(19)]\n",
    "\n",
    "\n",
    "for i, (train_idx, test_idx) in tqdm(enumerate(cv.split(dataset)), total=n_splits):\n",
    "    train_dtld = DataLoader(dataset[train_idx], batch_size=64, shuffle=False)\n",
    "    test_dtld = DataLoader(dataset[test_idx], batch_size=64, shuffle=False)\n",
    "\n",
    "    ## TEST\n",
    "    with torch.no_grad():\n",
    "\n",
    "        for X, y, title in tqdm(test_dtld, leave=False):\n",
    "            for j in range(19):\n",
    "                X, y = torch.tensor(X).to(dev), torch.tensor(y).to(dev)\n",
    "                y_pred = trained_models[i][j](X)\n",
    "\n",
    "                oofs[j] += y_pred.cpu().detach().tolist()\n",
    "                titles[j] += title\n",
    "\n",
    "                loss = loss_fn(y_pred, y[:, :, j].float())\n",
    "                acc = metrics.accuracy_score(y[:, :, j].cpu().detach().numpy(), y_pred.cpu().detach().numpy() > 0.5)\n",
    "                losses[j].append(loss.item())\n",
    "                accs[j].append(acc)\n",
    "                "
   ]
  },
  {
   "cell_type": "code",
   "execution_count": 28,
   "id": "8cf3af84",
   "metadata": {},
   "outputs": [
    {
     "data": {
      "text/plain": [
       "[0.7427083333333333,\n",
       " 0.7784375,\n",
       " 0.9611458333333333,\n",
       " 0.75375,\n",
       " 0.8155208333333333,\n",
       " 0.9790625,\n",
       " 0.679375,\n",
       " 0.9025,\n",
       " 0.888125,\n",
       " 0.9978125,\n",
       " 0.9609375,\n",
       " 0.89125,\n",
       " 0.955,\n",
       " 0.8982291666666667,\n",
       " 0.7982291666666668,\n",
       " 0.885625,\n",
       " 0.7203125,\n",
       " 0.974375,\n",
       " 0.9878125]"
      ]
     },
     "execution_count": 28,
     "metadata": {},
     "output_type": "execute_result"
    }
   ],
   "source": [
    "[np.mean(acc) for acc in accs]"
   ]
  },
  {
   "cell_type": "code",
   "execution_count": 33,
   "id": "c6084361",
   "metadata": {},
   "outputs": [],
   "source": [
    "cols = [f'p_img_{genre}' for genre in dataset.genres.drop(['title', 'imdb_score'], axis=1).columns]\n",
    "oofs_df = pd.DataFrame(np.moveaxis(np.array(oofs).squeeze(), [1, 0], [0, 1]), columns=cols, index=titles[0])"
   ]
  },
  {
   "cell_type": "code",
   "execution_count": 34,
   "id": "290b4bde",
   "metadata": {},
   "outputs": [
    {
     "data": {
      "text/html": [
       "<div>\n",
       "<style scoped>\n",
       "    .dataframe tbody tr th:only-of-type {\n",
       "        vertical-align: middle;\n",
       "    }\n",
       "\n",
       "    .dataframe tbody tr th {\n",
       "        vertical-align: top;\n",
       "    }\n",
       "\n",
       "    .dataframe thead th {\n",
       "        text-align: right;\n",
       "    }\n",
       "</style>\n",
       "<table border=\"1\" class=\"dataframe\">\n",
       "  <thead>\n",
       "    <tr style=\"text-align: right;\">\n",
       "      <th></th>\n",
       "      <th>p_img_Action</th>\n",
       "      <th>p_img_Adventure</th>\n",
       "      <th>p_img_Animation</th>\n",
       "      <th>p_img_Comedy</th>\n",
       "      <th>p_img_Crime</th>\n",
       "      <th>p_img_Documentary</th>\n",
       "      <th>p_img_Drama</th>\n",
       "      <th>p_img_Family</th>\n",
       "      <th>p_img_Fantasy</th>\n",
       "      <th>p_img_Foreign</th>\n",
       "      <th>p_img_History</th>\n",
       "      <th>p_img_Horror</th>\n",
       "      <th>p_img_Music</th>\n",
       "      <th>p_img_Mystery</th>\n",
       "      <th>p_img_Romance</th>\n",
       "      <th>p_img_Science Fiction</th>\n",
       "      <th>p_img_Thriller</th>\n",
       "      <th>p_img_War</th>\n",
       "      <th>p_img_Western</th>\n",
       "    </tr>\n",
       "  </thead>\n",
       "  <tbody>\n",
       "    <tr>\n",
       "      <th>Before I Go to Sleep</th>\n",
       "      <td>2.094530e-01</td>\n",
       "      <td>4.418359e-05</td>\n",
       "      <td>1.082134e-05</td>\n",
       "      <td>7.359636e-03</td>\n",
       "      <td>9.999714e-01</td>\n",
       "      <td>4.684079e-06</td>\n",
       "      <td>0.999999</td>\n",
       "      <td>2.394148e-12</td>\n",
       "      <td>5.917024e-08</td>\n",
       "      <td>1.687294e-27</td>\n",
       "      <td>4.076788e-08</td>\n",
       "      <td>2.371799e-09</td>\n",
       "      <td>1.448483e-03</td>\n",
       "      <td>7.992918e-01</td>\n",
       "      <td>8.820374e-07</td>\n",
       "      <td>1.129824e-03</td>\n",
       "      <td>2.347026e-03</td>\n",
       "      <td>9.220045e-08</td>\n",
       "      <td>1.312161e-07</td>\n",
       "    </tr>\n",
       "    <tr>\n",
       "      <th>The 5th Wave</th>\n",
       "      <td>6.965966e-01</td>\n",
       "      <td>5.001103e-01</td>\n",
       "      <td>6.815137e-06</td>\n",
       "      <td>1.361879e-04</td>\n",
       "      <td>3.492116e-10</td>\n",
       "      <td>3.178798e-03</td>\n",
       "      <td>0.201886</td>\n",
       "      <td>1.440349e-05</td>\n",
       "      <td>9.942008e-01</td>\n",
       "      <td>1.581902e-26</td>\n",
       "      <td>1.013191e-06</td>\n",
       "      <td>2.537784e-02</td>\n",
       "      <td>1.449423e-07</td>\n",
       "      <td>2.706215e-06</td>\n",
       "      <td>4.047122e-08</td>\n",
       "      <td>8.409939e-04</td>\n",
       "      <td>9.995763e-01</td>\n",
       "      <td>1.849366e-03</td>\n",
       "      <td>4.672410e-05</td>\n",
       "    </tr>\n",
       "    <tr>\n",
       "      <th>Shark Tale</th>\n",
       "      <td>1.859718e-01</td>\n",
       "      <td>1.688385e-01</td>\n",
       "      <td>6.149383e-03</td>\n",
       "      <td>9.999229e-01</td>\n",
       "      <td>1.301941e-08</td>\n",
       "      <td>2.205677e-02</td>\n",
       "      <td>0.000002</td>\n",
       "      <td>9.986709e-01</td>\n",
       "      <td>5.563495e-03</td>\n",
       "      <td>2.666445e-25</td>\n",
       "      <td>2.958058e-09</td>\n",
       "      <td>2.526262e-05</td>\n",
       "      <td>3.020452e-07</td>\n",
       "      <td>1.363889e-06</td>\n",
       "      <td>3.055294e-05</td>\n",
       "      <td>3.888128e-05</td>\n",
       "      <td>3.554102e-07</td>\n",
       "      <td>2.730362e-08</td>\n",
       "      <td>7.414762e-05</td>\n",
       "    </tr>\n",
       "    <tr>\n",
       "      <th>Cradle 2 the Grave</th>\n",
       "      <td>2.639533e-04</td>\n",
       "      <td>4.246844e-05</td>\n",
       "      <td>3.240485e-07</td>\n",
       "      <td>9.173861e-01</td>\n",
       "      <td>9.731997e-01</td>\n",
       "      <td>1.924754e-03</td>\n",
       "      <td>0.999958</td>\n",
       "      <td>1.593943e-12</td>\n",
       "      <td>8.482793e-09</td>\n",
       "      <td>3.946554e-26</td>\n",
       "      <td>2.649131e-07</td>\n",
       "      <td>2.181222e-07</td>\n",
       "      <td>2.602782e-08</td>\n",
       "      <td>2.564522e-08</td>\n",
       "      <td>7.940095e-05</td>\n",
       "      <td>3.389532e-11</td>\n",
       "      <td>7.318038e-02</td>\n",
       "      <td>6.986314e-10</td>\n",
       "      <td>1.841706e-07</td>\n",
       "    </tr>\n",
       "    <tr>\n",
       "      <th>Trainwreck</th>\n",
       "      <td>1.254285e-06</td>\n",
       "      <td>1.535301e-07</td>\n",
       "      <td>1.449123e-06</td>\n",
       "      <td>1.000000e+00</td>\n",
       "      <td>1.523498e-06</td>\n",
       "      <td>4.862097e-05</td>\n",
       "      <td>0.743038</td>\n",
       "      <td>1.338253e-06</td>\n",
       "      <td>2.075179e-07</td>\n",
       "      <td>4.758478e-32</td>\n",
       "      <td>7.064493e-04</td>\n",
       "      <td>3.704129e-07</td>\n",
       "      <td>1.300537e-03</td>\n",
       "      <td>6.072276e-08</td>\n",
       "      <td>9.451264e-01</td>\n",
       "      <td>5.827989e-08</td>\n",
       "      <td>1.118050e-11</td>\n",
       "      <td>1.178447e-09</td>\n",
       "      <td>3.149249e-10</td>\n",
       "    </tr>\n",
       "    <tr>\n",
       "      <th>...</th>\n",
       "      <td>...</td>\n",
       "      <td>...</td>\n",
       "      <td>...</td>\n",
       "      <td>...</td>\n",
       "      <td>...</td>\n",
       "      <td>...</td>\n",
       "      <td>...</td>\n",
       "      <td>...</td>\n",
       "      <td>...</td>\n",
       "      <td>...</td>\n",
       "      <td>...</td>\n",
       "      <td>...</td>\n",
       "      <td>...</td>\n",
       "      <td>...</td>\n",
       "      <td>...</td>\n",
       "      <td>...</td>\n",
       "      <td>...</td>\n",
       "      <td>...</td>\n",
       "      <td>...</td>\n",
       "    </tr>\n",
       "    <tr>\n",
       "      <th>Tumbleweeds</th>\n",
       "      <td>1.967659e-05</td>\n",
       "      <td>1.735477e-03</td>\n",
       "      <td>1.782276e-06</td>\n",
       "      <td>9.999908e-01</td>\n",
       "      <td>1.264812e-05</td>\n",
       "      <td>4.137787e-07</td>\n",
       "      <td>0.001581</td>\n",
       "      <td>6.390149e-05</td>\n",
       "      <td>6.042860e-07</td>\n",
       "      <td>2.762005e-22</td>\n",
       "      <td>1.067728e-07</td>\n",
       "      <td>4.652611e-10</td>\n",
       "      <td>6.229203e-04</td>\n",
       "      <td>3.566561e-06</td>\n",
       "      <td>9.994804e-01</td>\n",
       "      <td>8.156609e-09</td>\n",
       "      <td>1.755155e-12</td>\n",
       "      <td>5.789553e-04</td>\n",
       "      <td>7.557089e-18</td>\n",
       "    </tr>\n",
       "    <tr>\n",
       "      <th>The 13th Warrior</th>\n",
       "      <td>5.092020e-02</td>\n",
       "      <td>1.705997e-03</td>\n",
       "      <td>3.548147e-09</td>\n",
       "      <td>5.720665e-07</td>\n",
       "      <td>9.017004e-07</td>\n",
       "      <td>6.577902e-09</td>\n",
       "      <td>0.997621</td>\n",
       "      <td>1.230822e-04</td>\n",
       "      <td>2.833206e-03</td>\n",
       "      <td>2.265297e-25</td>\n",
       "      <td>2.747308e-05</td>\n",
       "      <td>1.330786e-05</td>\n",
       "      <td>1.090782e-11</td>\n",
       "      <td>1.612884e-07</td>\n",
       "      <td>2.501760e-04</td>\n",
       "      <td>2.510036e-02</td>\n",
       "      <td>8.707715e-01</td>\n",
       "      <td>7.625503e-05</td>\n",
       "      <td>6.420456e-08</td>\n",
       "    </tr>\n",
       "    <tr>\n",
       "      <th>Madagascar Escape 2 Africa</th>\n",
       "      <td>2.518833e-11</td>\n",
       "      <td>8.738497e-01</td>\n",
       "      <td>7.048868e-03</td>\n",
       "      <td>5.127398e-01</td>\n",
       "      <td>6.144658e-05</td>\n",
       "      <td>7.786108e-08</td>\n",
       "      <td>0.000004</td>\n",
       "      <td>9.999998e-01</td>\n",
       "      <td>1.208938e-04</td>\n",
       "      <td>5.841734e-27</td>\n",
       "      <td>7.945858e-03</td>\n",
       "      <td>6.064271e-06</td>\n",
       "      <td>5.650156e-03</td>\n",
       "      <td>8.027505e-07</td>\n",
       "      <td>1.306850e-03</td>\n",
       "      <td>4.204479e-07</td>\n",
       "      <td>8.306402e-05</td>\n",
       "      <td>2.619223e-10</td>\n",
       "      <td>2.282622e-08</td>\n",
       "    </tr>\n",
       "    <tr>\n",
       "      <th>Go for It</th>\n",
       "      <td>1.897840e-07</td>\n",
       "      <td>8.381273e-01</td>\n",
       "      <td>2.515302e-07</td>\n",
       "      <td>5.750727e-02</td>\n",
       "      <td>5.452289e-06</td>\n",
       "      <td>4.684483e-09</td>\n",
       "      <td>0.840371</td>\n",
       "      <td>1.091252e-06</td>\n",
       "      <td>1.230336e-04</td>\n",
       "      <td>5.867333e-25</td>\n",
       "      <td>3.977308e-05</td>\n",
       "      <td>3.156600e-05</td>\n",
       "      <td>1.728630e-06</td>\n",
       "      <td>2.576533e-07</td>\n",
       "      <td>1.437964e-07</td>\n",
       "      <td>7.532151e-05</td>\n",
       "      <td>4.850437e-02</td>\n",
       "      <td>8.949078e-09</td>\n",
       "      <td>6.706995e-07</td>\n",
       "    </tr>\n",
       "    <tr>\n",
       "      <th>Hollywood Homicide</th>\n",
       "      <td>1.421706e-01</td>\n",
       "      <td>4.574157e-05</td>\n",
       "      <td>1.460117e-04</td>\n",
       "      <td>3.268078e-02</td>\n",
       "      <td>1.369012e-04</td>\n",
       "      <td>4.120668e-08</td>\n",
       "      <td>0.423908</td>\n",
       "      <td>6.748708e-08</td>\n",
       "      <td>2.094144e-05</td>\n",
       "      <td>8.469811e-24</td>\n",
       "      <td>4.002010e-08</td>\n",
       "      <td>4.121598e-05</td>\n",
       "      <td>8.220175e-09</td>\n",
       "      <td>1.863389e-04</td>\n",
       "      <td>1.331625e-02</td>\n",
       "      <td>1.324137e-06</td>\n",
       "      <td>2.116917e-03</td>\n",
       "      <td>1.700300e-09</td>\n",
       "      <td>2.223638e-08</td>\n",
       "    </tr>\n",
       "  </tbody>\n",
       "</table>\n",
       "<p>2894 rows × 19 columns</p>\n",
       "</div>"
      ],
      "text/plain": [
       "                            p_img_Action  p_img_Adventure  p_img_Animation  \\\n",
       "Before I Go to Sleep        2.094530e-01     4.418359e-05     1.082134e-05   \n",
       "The 5th Wave                6.965966e-01     5.001103e-01     6.815137e-06   \n",
       "Shark Tale                  1.859718e-01     1.688385e-01     6.149383e-03   \n",
       "Cradle 2 the Grave          2.639533e-04     4.246844e-05     3.240485e-07   \n",
       "Trainwreck                  1.254285e-06     1.535301e-07     1.449123e-06   \n",
       "...                                  ...              ...              ...   \n",
       "Tumbleweeds                 1.967659e-05     1.735477e-03     1.782276e-06   \n",
       "The 13th Warrior            5.092020e-02     1.705997e-03     3.548147e-09   \n",
       "Madagascar Escape 2 Africa  2.518833e-11     8.738497e-01     7.048868e-03   \n",
       "Go for It                   1.897840e-07     8.381273e-01     2.515302e-07   \n",
       "Hollywood Homicide          1.421706e-01     4.574157e-05     1.460117e-04   \n",
       "\n",
       "                            p_img_Comedy   p_img_Crime  p_img_Documentary  \\\n",
       "Before I Go to Sleep        7.359636e-03  9.999714e-01       4.684079e-06   \n",
       "The 5th Wave                1.361879e-04  3.492116e-10       3.178798e-03   \n",
       "Shark Tale                  9.999229e-01  1.301941e-08       2.205677e-02   \n",
       "Cradle 2 the Grave          9.173861e-01  9.731997e-01       1.924754e-03   \n",
       "Trainwreck                  1.000000e+00  1.523498e-06       4.862097e-05   \n",
       "...                                  ...           ...                ...   \n",
       "Tumbleweeds                 9.999908e-01  1.264812e-05       4.137787e-07   \n",
       "The 13th Warrior            5.720665e-07  9.017004e-07       6.577902e-09   \n",
       "Madagascar Escape 2 Africa  5.127398e-01  6.144658e-05       7.786108e-08   \n",
       "Go for It                   5.750727e-02  5.452289e-06       4.684483e-09   \n",
       "Hollywood Homicide          3.268078e-02  1.369012e-04       4.120668e-08   \n",
       "\n",
       "                            p_img_Drama  p_img_Family  p_img_Fantasy  \\\n",
       "Before I Go to Sleep           0.999999  2.394148e-12   5.917024e-08   \n",
       "The 5th Wave                   0.201886  1.440349e-05   9.942008e-01   \n",
       "Shark Tale                     0.000002  9.986709e-01   5.563495e-03   \n",
       "Cradle 2 the Grave             0.999958  1.593943e-12   8.482793e-09   \n",
       "Trainwreck                     0.743038  1.338253e-06   2.075179e-07   \n",
       "...                                 ...           ...            ...   \n",
       "Tumbleweeds                    0.001581  6.390149e-05   6.042860e-07   \n",
       "The 13th Warrior               0.997621  1.230822e-04   2.833206e-03   \n",
       "Madagascar Escape 2 Africa     0.000004  9.999998e-01   1.208938e-04   \n",
       "Go for It                      0.840371  1.091252e-06   1.230336e-04   \n",
       "Hollywood Homicide             0.423908  6.748708e-08   2.094144e-05   \n",
       "\n",
       "                            p_img_Foreign  p_img_History  p_img_Horror  \\\n",
       "Before I Go to Sleep         1.687294e-27   4.076788e-08  2.371799e-09   \n",
       "The 5th Wave                 1.581902e-26   1.013191e-06  2.537784e-02   \n",
       "Shark Tale                   2.666445e-25   2.958058e-09  2.526262e-05   \n",
       "Cradle 2 the Grave           3.946554e-26   2.649131e-07  2.181222e-07   \n",
       "Trainwreck                   4.758478e-32   7.064493e-04  3.704129e-07   \n",
       "...                                   ...            ...           ...   \n",
       "Tumbleweeds                  2.762005e-22   1.067728e-07  4.652611e-10   \n",
       "The 13th Warrior             2.265297e-25   2.747308e-05  1.330786e-05   \n",
       "Madagascar Escape 2 Africa   5.841734e-27   7.945858e-03  6.064271e-06   \n",
       "Go for It                    5.867333e-25   3.977308e-05  3.156600e-05   \n",
       "Hollywood Homicide           8.469811e-24   4.002010e-08  4.121598e-05   \n",
       "\n",
       "                             p_img_Music  p_img_Mystery  p_img_Romance  \\\n",
       "Before I Go to Sleep        1.448483e-03   7.992918e-01   8.820374e-07   \n",
       "The 5th Wave                1.449423e-07   2.706215e-06   4.047122e-08   \n",
       "Shark Tale                  3.020452e-07   1.363889e-06   3.055294e-05   \n",
       "Cradle 2 the Grave          2.602782e-08   2.564522e-08   7.940095e-05   \n",
       "Trainwreck                  1.300537e-03   6.072276e-08   9.451264e-01   \n",
       "...                                  ...            ...            ...   \n",
       "Tumbleweeds                 6.229203e-04   3.566561e-06   9.994804e-01   \n",
       "The 13th Warrior            1.090782e-11   1.612884e-07   2.501760e-04   \n",
       "Madagascar Escape 2 Africa  5.650156e-03   8.027505e-07   1.306850e-03   \n",
       "Go for It                   1.728630e-06   2.576533e-07   1.437964e-07   \n",
       "Hollywood Homicide          8.220175e-09   1.863389e-04   1.331625e-02   \n",
       "\n",
       "                            p_img_Science Fiction  p_img_Thriller  \\\n",
       "Before I Go to Sleep                 1.129824e-03    2.347026e-03   \n",
       "The 5th Wave                         8.409939e-04    9.995763e-01   \n",
       "Shark Tale                           3.888128e-05    3.554102e-07   \n",
       "Cradle 2 the Grave                   3.389532e-11    7.318038e-02   \n",
       "Trainwreck                           5.827989e-08    1.118050e-11   \n",
       "...                                           ...             ...   \n",
       "Tumbleweeds                          8.156609e-09    1.755155e-12   \n",
       "The 13th Warrior                     2.510036e-02    8.707715e-01   \n",
       "Madagascar Escape 2 Africa           4.204479e-07    8.306402e-05   \n",
       "Go for It                            7.532151e-05    4.850437e-02   \n",
       "Hollywood Homicide                   1.324137e-06    2.116917e-03   \n",
       "\n",
       "                               p_img_War  p_img_Western  \n",
       "Before I Go to Sleep        9.220045e-08   1.312161e-07  \n",
       "The 5th Wave                1.849366e-03   4.672410e-05  \n",
       "Shark Tale                  2.730362e-08   7.414762e-05  \n",
       "Cradle 2 the Grave          6.986314e-10   1.841706e-07  \n",
       "Trainwreck                  1.178447e-09   3.149249e-10  \n",
       "...                                  ...            ...  \n",
       "Tumbleweeds                 5.789553e-04   7.557089e-18  \n",
       "The 13th Warrior            7.625503e-05   6.420456e-08  \n",
       "Madagascar Escape 2 Africa  2.619223e-10   2.282622e-08  \n",
       "Go for It                   8.949078e-09   6.706995e-07  \n",
       "Hollywood Homicide          1.700300e-09   2.223638e-08  \n",
       "\n",
       "[2894 rows x 19 columns]"
      ]
     },
     "execution_count": 34,
     "metadata": {},
     "output_type": "execute_result"
    }
   ],
   "source": [
    "oofs_df"
   ]
  },
  {
   "cell_type": "code",
   "execution_count": 35,
   "id": "5332610f",
   "metadata": {},
   "outputs": [],
   "source": [
    "oofs_df.to_csv(DATA_ROOT / 'oofs_imgs.csv')"
   ]
  },
  {
   "cell_type": "code",
   "execution_count": 65,
   "id": "a9076bd2",
   "metadata": {},
   "outputs": [
    {
     "data": {
      "text/html": [
       "<div>\n",
       "<style scoped>\n",
       "    .dataframe tbody tr th:only-of-type {\n",
       "        vertical-align: middle;\n",
       "    }\n",
       "\n",
       "    .dataframe tbody tr th {\n",
       "        vertical-align: top;\n",
       "    }\n",
       "\n",
       "    .dataframe thead th {\n",
       "        text-align: right;\n",
       "    }\n",
       "</style>\n",
       "<table border=\"1\" class=\"dataframe\">\n",
       "  <thead>\n",
       "    <tr style=\"text-align: right;\">\n",
       "      <th></th>\n",
       "      <th>p_img_Action</th>\n",
       "      <th>p_img_Adventure</th>\n",
       "      <th>p_img_Animation</th>\n",
       "      <th>p_img_Comedy</th>\n",
       "      <th>p_img_Crime</th>\n",
       "      <th>p_img_Documentary</th>\n",
       "      <th>p_img_Drama</th>\n",
       "      <th>p_img_Family</th>\n",
       "      <th>p_img_Fantasy</th>\n",
       "      <th>p_img_Foreign</th>\n",
       "      <th>p_img_History</th>\n",
       "      <th>p_img_Horror</th>\n",
       "      <th>p_img_Music</th>\n",
       "      <th>p_img_Mystery</th>\n",
       "      <th>p_img_Romance</th>\n",
       "      <th>p_img_Science Fiction</th>\n",
       "      <th>p_img_Thriller</th>\n",
       "      <th>p_img_War</th>\n",
       "      <th>p_img_Western</th>\n",
       "    </tr>\n",
       "  </thead>\n",
       "  <tbody>\n",
       "    <tr>\n",
       "      <th>0</th>\n",
       "      <td>1.968843e-01</td>\n",
       "      <td>1.993689e-05</td>\n",
       "      <td>8.879242e-06</td>\n",
       "      <td>9.054789e-03</td>\n",
       "      <td>9.999534e-01</td>\n",
       "      <td>9.527656e-06</td>\n",
       "      <td>0.999999</td>\n",
       "      <td>3.928550e-12</td>\n",
       "      <td>7.440489e-08</td>\n",
       "      <td>2.541109e-25</td>\n",
       "      <td>1.573689e-08</td>\n",
       "      <td>7.733706e-10</td>\n",
       "      <td>1.583185e-03</td>\n",
       "      <td>7.296594e-01</td>\n",
       "      <td>6.669433e-07</td>\n",
       "      <td>2.736965e-03</td>\n",
       "      <td>2.987275e-03</td>\n",
       "      <td>2.787142e-08</td>\n",
       "      <td>7.378716e-08</td>\n",
       "    </tr>\n",
       "    <tr>\n",
       "      <th>1</th>\n",
       "      <td>6.013325e-01</td>\n",
       "      <td>4.630861e-01</td>\n",
       "      <td>2.305611e-06</td>\n",
       "      <td>1.676695e-04</td>\n",
       "      <td>3.830799e-10</td>\n",
       "      <td>6.327938e-03</td>\n",
       "      <td>0.047103</td>\n",
       "      <td>1.557525e-05</td>\n",
       "      <td>9.945295e-01</td>\n",
       "      <td>1.103660e-24</td>\n",
       "      <td>5.598473e-07</td>\n",
       "      <td>1.451819e-02</td>\n",
       "      <td>1.439517e-07</td>\n",
       "      <td>2.931666e-06</td>\n",
       "      <td>1.911390e-08</td>\n",
       "      <td>1.655559e-03</td>\n",
       "      <td>9.997661e-01</td>\n",
       "      <td>1.799241e-03</td>\n",
       "      <td>3.073577e-05</td>\n",
       "    </tr>\n",
       "    <tr>\n",
       "      <th>2</th>\n",
       "      <td>5.086008e-03</td>\n",
       "      <td>2.359726e-06</td>\n",
       "      <td>3.646325e-02</td>\n",
       "      <td>9.999930e-01</td>\n",
       "      <td>4.116538e-04</td>\n",
       "      <td>1.543011e-02</td>\n",
       "      <td>0.000971</td>\n",
       "      <td>9.992150e-01</td>\n",
       "      <td>2.298786e-04</td>\n",
       "      <td>1.733378e-22</td>\n",
       "      <td>3.382181e-08</td>\n",
       "      <td>3.788807e-04</td>\n",
       "      <td>1.496798e-07</td>\n",
       "      <td>7.858034e-08</td>\n",
       "      <td>1.240118e-03</td>\n",
       "      <td>3.798546e-06</td>\n",
       "      <td>1.768700e-06</td>\n",
       "      <td>1.678215e-07</td>\n",
       "      <td>2.762499e-05</td>\n",
       "    </tr>\n",
       "    <tr>\n",
       "      <th>3</th>\n",
       "      <td>1.388280e-05</td>\n",
       "      <td>7.610676e-03</td>\n",
       "      <td>1.890592e-05</td>\n",
       "      <td>9.839504e-01</td>\n",
       "      <td>5.517299e-02</td>\n",
       "      <td>2.430798e-02</td>\n",
       "      <td>0.999680</td>\n",
       "      <td>9.290728e-08</td>\n",
       "      <td>4.069162e-06</td>\n",
       "      <td>1.810702e-25</td>\n",
       "      <td>4.528638e-08</td>\n",
       "      <td>9.852495e-09</td>\n",
       "      <td>3.685317e-06</td>\n",
       "      <td>1.354828e-04</td>\n",
       "      <td>3.969548e-04</td>\n",
       "      <td>4.676254e-08</td>\n",
       "      <td>7.310975e-02</td>\n",
       "      <td>3.275436e-07</td>\n",
       "      <td>1.043764e-07</td>\n",
       "    </tr>\n",
       "    <tr>\n",
       "      <th>4</th>\n",
       "      <td>4.106988e-07</td>\n",
       "      <td>1.246830e-07</td>\n",
       "      <td>1.714886e-06</td>\n",
       "      <td>1.000000e+00</td>\n",
       "      <td>2.149369e-06</td>\n",
       "      <td>1.054680e-04</td>\n",
       "      <td>0.713643</td>\n",
       "      <td>1.720856e-06</td>\n",
       "      <td>1.639125e-07</td>\n",
       "      <td>4.058425e-30</td>\n",
       "      <td>4.863419e-04</td>\n",
       "      <td>2.505092e-07</td>\n",
       "      <td>1.598642e-03</td>\n",
       "      <td>4.327130e-08</td>\n",
       "      <td>9.677393e-01</td>\n",
       "      <td>9.219886e-08</td>\n",
       "      <td>1.264946e-11</td>\n",
       "      <td>1.546674e-09</td>\n",
       "      <td>2.415949e-10</td>\n",
       "    </tr>\n",
       "    <tr>\n",
       "      <th>...</th>\n",
       "      <td>...</td>\n",
       "      <td>...</td>\n",
       "      <td>...</td>\n",
       "      <td>...</td>\n",
       "      <td>...</td>\n",
       "      <td>...</td>\n",
       "      <td>...</td>\n",
       "      <td>...</td>\n",
       "      <td>...</td>\n",
       "      <td>...</td>\n",
       "      <td>...</td>\n",
       "      <td>...</td>\n",
       "      <td>...</td>\n",
       "      <td>...</td>\n",
       "      <td>...</td>\n",
       "      <td>...</td>\n",
       "      <td>...</td>\n",
       "      <td>...</td>\n",
       "      <td>...</td>\n",
       "    </tr>\n",
       "    <tr>\n",
       "      <th>2889</th>\n",
       "      <td>5.018525e-05</td>\n",
       "      <td>5.303190e-03</td>\n",
       "      <td>7.781357e-06</td>\n",
       "      <td>9.999988e-01</td>\n",
       "      <td>9.056796e-05</td>\n",
       "      <td>7.094293e-09</td>\n",
       "      <td>0.001459</td>\n",
       "      <td>2.257059e-03</td>\n",
       "      <td>1.345413e-12</td>\n",
       "      <td>4.102173e-25</td>\n",
       "      <td>8.928943e-07</td>\n",
       "      <td>3.801621e-09</td>\n",
       "      <td>1.029650e-04</td>\n",
       "      <td>3.512210e-07</td>\n",
       "      <td>8.833754e-01</td>\n",
       "      <td>8.810284e-13</td>\n",
       "      <td>1.341149e-13</td>\n",
       "      <td>1.225216e-04</td>\n",
       "      <td>4.536614e-10</td>\n",
       "    </tr>\n",
       "    <tr>\n",
       "      <th>2890</th>\n",
       "      <td>1.334224e-01</td>\n",
       "      <td>3.662193e-03</td>\n",
       "      <td>4.837270e-09</td>\n",
       "      <td>2.174876e-07</td>\n",
       "      <td>1.039623e-06</td>\n",
       "      <td>6.045682e-09</td>\n",
       "      <td>0.998338</td>\n",
       "      <td>1.980763e-04</td>\n",
       "      <td>5.515950e-03</td>\n",
       "      <td>1.247328e-24</td>\n",
       "      <td>4.765255e-05</td>\n",
       "      <td>3.339526e-05</td>\n",
       "      <td>2.202230e-12</td>\n",
       "      <td>4.303270e-07</td>\n",
       "      <td>1.307676e-04</td>\n",
       "      <td>1.300710e-02</td>\n",
       "      <td>8.608657e-01</td>\n",
       "      <td>5.588136e-05</td>\n",
       "      <td>1.619325e-08</td>\n",
       "    </tr>\n",
       "    <tr>\n",
       "      <th>2891</th>\n",
       "      <td>2.132113e-09</td>\n",
       "      <td>6.453414e-02</td>\n",
       "      <td>8.688737e-01</td>\n",
       "      <td>8.594906e-01</td>\n",
       "      <td>9.091417e-04</td>\n",
       "      <td>2.217546e-09</td>\n",
       "      <td>0.000001</td>\n",
       "      <td>9.998519e-01</td>\n",
       "      <td>5.083255e-03</td>\n",
       "      <td>3.361246e-28</td>\n",
       "      <td>1.703740e-04</td>\n",
       "      <td>4.822762e-07</td>\n",
       "      <td>1.554362e-05</td>\n",
       "      <td>3.985115e-08</td>\n",
       "      <td>7.243647e-05</td>\n",
       "      <td>5.861467e-08</td>\n",
       "      <td>1.659070e-06</td>\n",
       "      <td>5.427641e-09</td>\n",
       "      <td>4.751224e-09</td>\n",
       "    </tr>\n",
       "    <tr>\n",
       "      <th>2892</th>\n",
       "      <td>3.924342e-06</td>\n",
       "      <td>9.841229e-01</td>\n",
       "      <td>8.429642e-07</td>\n",
       "      <td>1.172597e-03</td>\n",
       "      <td>4.349604e-04</td>\n",
       "      <td>4.166642e-08</td>\n",
       "      <td>0.041631</td>\n",
       "      <td>6.436128e-06</td>\n",
       "      <td>4.451708e-02</td>\n",
       "      <td>1.369612e-27</td>\n",
       "      <td>1.602117e-04</td>\n",
       "      <td>1.174433e-05</td>\n",
       "      <td>5.635541e-07</td>\n",
       "      <td>2.219255e-09</td>\n",
       "      <td>1.611820e-06</td>\n",
       "      <td>2.430158e-05</td>\n",
       "      <td>3.058320e-03</td>\n",
       "      <td>1.213406e-08</td>\n",
       "      <td>1.150373e-10</td>\n",
       "    </tr>\n",
       "    <tr>\n",
       "      <th>2893</th>\n",
       "      <td>7.890651e-02</td>\n",
       "      <td>5.673392e-06</td>\n",
       "      <td>4.210042e-06</td>\n",
       "      <td>5.777241e-01</td>\n",
       "      <td>2.205443e-04</td>\n",
       "      <td>1.245398e-06</td>\n",
       "      <td>0.994208</td>\n",
       "      <td>7.047403e-04</td>\n",
       "      <td>7.235860e-07</td>\n",
       "      <td>5.295616e-27</td>\n",
       "      <td>3.665156e-07</td>\n",
       "      <td>1.661361e-05</td>\n",
       "      <td>5.077398e-09</td>\n",
       "      <td>7.186402e-03</td>\n",
       "      <td>9.227603e-04</td>\n",
       "      <td>8.395008e-07</td>\n",
       "      <td>1.958575e-01</td>\n",
       "      <td>3.277263e-10</td>\n",
       "      <td>9.198857e-06</td>\n",
       "    </tr>\n",
       "  </tbody>\n",
       "</table>\n",
       "<p>2894 rows × 19 columns</p>\n",
       "</div>"
      ],
      "text/plain": [
       "      p_img_Action  p_img_Adventure  p_img_Animation  p_img_Comedy  \\\n",
       "0     1.968843e-01     1.993689e-05     8.879242e-06  9.054789e-03   \n",
       "1     6.013325e-01     4.630861e-01     2.305611e-06  1.676695e-04   \n",
       "2     5.086008e-03     2.359726e-06     3.646325e-02  9.999930e-01   \n",
       "3     1.388280e-05     7.610676e-03     1.890592e-05  9.839504e-01   \n",
       "4     4.106988e-07     1.246830e-07     1.714886e-06  1.000000e+00   \n",
       "...            ...              ...              ...           ...   \n",
       "2889  5.018525e-05     5.303190e-03     7.781357e-06  9.999988e-01   \n",
       "2890  1.334224e-01     3.662193e-03     4.837270e-09  2.174876e-07   \n",
       "2891  2.132113e-09     6.453414e-02     8.688737e-01  8.594906e-01   \n",
       "2892  3.924342e-06     9.841229e-01     8.429642e-07  1.172597e-03   \n",
       "2893  7.890651e-02     5.673392e-06     4.210042e-06  5.777241e-01   \n",
       "\n",
       "       p_img_Crime  p_img_Documentary  p_img_Drama  p_img_Family  \\\n",
       "0     9.999534e-01       9.527656e-06     0.999999  3.928550e-12   \n",
       "1     3.830799e-10       6.327938e-03     0.047103  1.557525e-05   \n",
       "2     4.116538e-04       1.543011e-02     0.000971  9.992150e-01   \n",
       "3     5.517299e-02       2.430798e-02     0.999680  9.290728e-08   \n",
       "4     2.149369e-06       1.054680e-04     0.713643  1.720856e-06   \n",
       "...            ...                ...          ...           ...   \n",
       "2889  9.056796e-05       7.094293e-09     0.001459  2.257059e-03   \n",
       "2890  1.039623e-06       6.045682e-09     0.998338  1.980763e-04   \n",
       "2891  9.091417e-04       2.217546e-09     0.000001  9.998519e-01   \n",
       "2892  4.349604e-04       4.166642e-08     0.041631  6.436128e-06   \n",
       "2893  2.205443e-04       1.245398e-06     0.994208  7.047403e-04   \n",
       "\n",
       "      p_img_Fantasy  p_img_Foreign  p_img_History  p_img_Horror   p_img_Music  \\\n",
       "0      7.440489e-08   2.541109e-25   1.573689e-08  7.733706e-10  1.583185e-03   \n",
       "1      9.945295e-01   1.103660e-24   5.598473e-07  1.451819e-02  1.439517e-07   \n",
       "2      2.298786e-04   1.733378e-22   3.382181e-08  3.788807e-04  1.496798e-07   \n",
       "3      4.069162e-06   1.810702e-25   4.528638e-08  9.852495e-09  3.685317e-06   \n",
       "4      1.639125e-07   4.058425e-30   4.863419e-04  2.505092e-07  1.598642e-03   \n",
       "...             ...            ...            ...           ...           ...   \n",
       "2889   1.345413e-12   4.102173e-25   8.928943e-07  3.801621e-09  1.029650e-04   \n",
       "2890   5.515950e-03   1.247328e-24   4.765255e-05  3.339526e-05  2.202230e-12   \n",
       "2891   5.083255e-03   3.361246e-28   1.703740e-04  4.822762e-07  1.554362e-05   \n",
       "2892   4.451708e-02   1.369612e-27   1.602117e-04  1.174433e-05  5.635541e-07   \n",
       "2893   7.235860e-07   5.295616e-27   3.665156e-07  1.661361e-05  5.077398e-09   \n",
       "\n",
       "      p_img_Mystery  p_img_Romance  p_img_Science Fiction  p_img_Thriller  \\\n",
       "0      7.296594e-01   6.669433e-07           2.736965e-03    2.987275e-03   \n",
       "1      2.931666e-06   1.911390e-08           1.655559e-03    9.997661e-01   \n",
       "2      7.858034e-08   1.240118e-03           3.798546e-06    1.768700e-06   \n",
       "3      1.354828e-04   3.969548e-04           4.676254e-08    7.310975e-02   \n",
       "4      4.327130e-08   9.677393e-01           9.219886e-08    1.264946e-11   \n",
       "...             ...            ...                    ...             ...   \n",
       "2889   3.512210e-07   8.833754e-01           8.810284e-13    1.341149e-13   \n",
       "2890   4.303270e-07   1.307676e-04           1.300710e-02    8.608657e-01   \n",
       "2891   3.985115e-08   7.243647e-05           5.861467e-08    1.659070e-06   \n",
       "2892   2.219255e-09   1.611820e-06           2.430158e-05    3.058320e-03   \n",
       "2893   7.186402e-03   9.227603e-04           8.395008e-07    1.958575e-01   \n",
       "\n",
       "         p_img_War  p_img_Western  \n",
       "0     2.787142e-08   7.378716e-08  \n",
       "1     1.799241e-03   3.073577e-05  \n",
       "2     1.678215e-07   2.762499e-05  \n",
       "3     3.275436e-07   1.043764e-07  \n",
       "4     1.546674e-09   2.415949e-10  \n",
       "...            ...            ...  \n",
       "2889  1.225216e-04   4.536614e-10  \n",
       "2890  5.588136e-05   1.619325e-08  \n",
       "2891  5.427641e-09   4.751224e-09  \n",
       "2892  1.213406e-08   1.150373e-10  \n",
       "2893  3.277263e-10   9.198857e-06  \n",
       "\n",
       "[2894 rows x 19 columns]"
      ]
     },
     "execution_count": 65,
     "metadata": {},
     "output_type": "execute_result"
    }
   ],
   "source": [
    "oofs_df"
   ]
  },
  {
   "cell_type": "code",
   "execution_count": 19,
   "id": "2174e51d",
   "metadata": {},
   "outputs": [],
   "source": [
    "class VotingModel(BaseEstimator, RegressorMixin):\n",
    "    def __init__(self, estimators):\n",
    "        super().__init__()\n",
    "        self.estimators = estimators\n",
    "        \n",
    "    def fit(self, X, y=None):\n",
    "        return self\n",
    "    \n",
    "    def predict(self, X):\n",
    "        y_preds = [estimator.predict(X) for estimator in self.estimators]\n",
    "        return np.mean(y_preds, axis=0)\n",
    "    \n",
    "    def predict_proba(self, X):\n",
    "        try:\n",
    "            y_preds = [estimator.predict_proba(X) for estimator in self.estimators]\n",
    "        except AttributeError:\n",
    "            y_preds = [estimator.predict(X) for estimator in self.estimators]\n",
    "        return np.mean(y_preds, axis=0)"
   ]
  },
  {
   "cell_type": "code",
   "execution_count": 18,
   "id": "b48ec41f",
   "metadata": {},
   "outputs": [
    {
     "ename": "NameError",
     "evalue": "name 'trained_models' is not defined",
     "output_type": "error",
     "traceback": [
      "\u001b[0;31m---------------------------------------------------------------------------\u001b[0m",
      "\u001b[0;31mNameError\u001b[0m                                 Traceback (most recent call last)",
      "Cell \u001b[0;32mIn[18], line 1\u001b[0m\n\u001b[0;32m----> 1\u001b[0m voting_model \u001b[38;5;241m=\u001b[39m VotingModel(\u001b[43mtrained_models\u001b[49m)\n",
      "\u001b[0;31mNameError\u001b[0m: name 'trained_models' is not defined"
     ]
    }
   ],
   "source": [
    "voting_model = VotingModel(trained_models)"
   ]
  },
  {
   "cell_type": "code",
   "execution_count": 22,
   "id": "02e489c0",
   "metadata": {},
   "outputs": [
    {
     "data": {
      "text/plain": [
       "['models/imgmodel.pkl']"
      ]
     },
     "execution_count": 22,
     "metadata": {},
     "output_type": "execute_result"
    }
   ],
   "source": [
    "joblib.dump(voting_model, WORKING_DIR / 'models/imgmodel.pkl')"
   ]
  },
  {
   "cell_type": "code",
   "execution_count": 21,
   "id": "ad6a6920",
   "metadata": {},
   "outputs": [],
   "source": [
    "voting_model = joblib.load(WORKING_DIR / 'models/imgmodel.pkl')"
   ]
  },
  {
   "cell_type": "code",
   "execution_count": 25,
   "id": "95eb5c07",
   "metadata": {},
   "outputs": [],
   "source": [
    "trained_models = voting_model.estimators"
   ]
  }
 ],
 "metadata": {
  "kernelspec": {
   "display_name": "Python 3 (ipykernel)",
   "language": "python",
   "name": "python3"
  },
  "language_info": {
   "codemirror_mode": {
    "name": "ipython",
    "version": 3
   },
   "file_extension": ".py",
   "mimetype": "text/x-python",
   "name": "python",
   "nbconvert_exporter": "python",
   "pygments_lexer": "ipython3",
   "version": "3.10.9"
  }
 },
 "nbformat": 4,
 "nbformat_minor": 5
}
