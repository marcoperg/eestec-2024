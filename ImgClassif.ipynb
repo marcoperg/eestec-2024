{
 "cells": [
  {
   "cell_type": "code",
   "execution_count": 1,
   "id": "19ed6269",
   "metadata": {},
   "outputs": [],
   "source": [
    "from pathlib import Path\n",
    "import os\n",
    "\n",
    "import torch\n",
    "from torch import nn\n",
    "import timm\n",
    "from skimage import io, transform\n",
    "\n",
    "from torch.utils.data import Dataset, DataLoader\n",
    "from torchvision import transforms, utils\n",
    "from matplotlib import pyplot as plt\n",
    "\n",
    "import pandas as pd\n",
    "\n",
    "from sklearn import metrics\n",
    "\n",
    "from tqdm.auto import trange, tqdm\n",
    "\n",
    "import warnings\n",
    "warnings.filterwarnings(\"ignore\")\n",
    "\n",
    "dev = 'cuda' if torch.cuda.is_available() else 'cpu'"
   ]
  },
  {
   "cell_type": "code",
   "execution_count": 2,
   "id": "4501ca89",
   "metadata": {},
   "outputs": [],
   "source": [
    "DATA_ROOT   = Path('./data')\n",
    "WORKING_DIR = Path('./')\n",
    "STUDY_PATH = WORKING_DIR / 'studies'"
   ]
  },
  {
   "cell_type": "code",
   "execution_count": 3,
   "id": "1e740102",
   "metadata": {},
   "outputs": [],
   "source": [
    "X = pd.read_csv(DATA_ROOT / 'X_train.csv')\n",
    "y = pd.read_csv(DATA_ROOT / 'train_labels.csv')"
   ]
  },
  {
   "cell_type": "code",
   "execution_count": 4,
   "id": "7217ec52",
   "metadata": {},
   "outputs": [],
   "source": [
    "def clean_tile(t):\n",
    "    t = t.replace('\\'', '_')\n",
    "    return ''.join(e for e in t if e.isalnum() or e in '- _¢·v)(')"
   ]
  },
  {
   "cell_type": "code",
   "execution_count": 5,
   "id": "9f33386c",
   "metadata": {},
   "outputs": [],
   "source": [
    "y['title'] = [clean_tile(x) for x in X['movie_title']]"
   ]
  },
  {
   "cell_type": "code",
   "execution_count": 6,
   "id": "c1aab532",
   "metadata": {},
   "outputs": [
    {
     "data": {
      "text/plain": [
       "['Before Sunrise',\n",
       " 'The Life Before Her Eyes',\n",
       " 'Before Sunset',\n",
       " 'Me Before You',\n",
       " 'Before I Go to Sleep',\n",
       " 'Before Midnight']"
      ]
     },
     "execution_count": 6,
     "metadata": {},
     "output_type": "execute_result"
    }
   ],
   "source": [
    "[x for x in y['title'] if 'Before' in x]"
   ]
  },
  {
   "cell_type": "code",
   "execution_count": 7,
   "id": "f1a5294a",
   "metadata": {},
   "outputs": [],
   "source": [
    "class PostersDataset(Dataset):\n",
    "    \"\"\"Face Landmarks dataset.\"\"\"\n",
    "\n",
    "    def __init__(self, genres_csv, root_dir, transform=None):\n",
    "        \"\"\"\n",
    "        Arguments:\n",
    "            csv_file (string): Path to the csv file with annotations.\n",
    "            root_dir (string): Directory with all the images.\n",
    "            transform (callable, optional): Optional transform to be applied\n",
    "                on a sample.\n",
    "        \"\"\"\n",
    "        self.root_dir = root_dir\n",
    "        self.transform = transform\n",
    "        self.titles = [f.split('.')[0] for f in os.listdir(root_dir)]        \n",
    "        self.genres = genres_csv\n",
    "\n",
    "    def __len__(self):\n",
    "        return len(self.genres)\n",
    "\n",
    "    def __getitem__(self, idx):\n",
    "        if torch.is_tensor(idx):\n",
    "            idx = idx.tolist()\n",
    "\n",
    "        img_name = os.path.join(self.root_dir,\n",
    "                                f'{self.titles[idx]}.jpg')\n",
    "        img = io.imread(img_name)\n",
    "\n",
    "        if self.transform:\n",
    "            img = self.transform(img)\n",
    "\n",
    "        y = self.genres[self.genres['title'] == self.titles[idx]].drop(['imdb_score', 'title'], axis=1).to_numpy()\n",
    "        if len(y) == 0:\n",
    "            print(\"============\")\n",
    "            print(self.titles[idx])\n",
    "            print(\"============\")\n",
    "        return img, y"
   ]
  },
  {
   "cell_type": "code",
   "execution_count": 8,
   "id": "b787f46b",
   "metadata": {},
   "outputs": [],
   "source": [
    "trasf = transforms.Compose([\n",
    "                                transforms.ToTensor(),\n",
    "                                transforms.Resize((224, 224)),\n",
    "                            ])\n",
    "\n",
    "train_ds = PostersDataset(y, DATA_ROOT / 'train_posters', transform=trasf)\n",
    "train_dtld = DataLoader(train_ds, batch_size=256)"
   ]
  },
  {
   "cell_type": "code",
   "execution_count": 9,
   "id": "78dd93cc",
   "metadata": {
    "scrolled": false
   },
   "outputs": [],
   "source": [
    "a = next(iter(train_dtld))"
   ]
  },
  {
   "cell_type": "code",
   "execution_count": 10,
   "id": "59a0c79c",
   "metadata": {},
   "outputs": [],
   "source": [
    "def imshow(img):\n",
    "    plt.imshow(torch.movedim(img, 0, 2))"
   ]
  },
  {
   "cell_type": "code",
   "execution_count": 11,
   "id": "096765dd",
   "metadata": {},
   "outputs": [],
   "source": [
    "class ImgClass(nn.Module):\n",
    "    def __init__(self):\n",
    "        super(ImgClass, self).__init__()\n",
    "        # self.input = nn.Conv2d(3, 3, 5, 1, 2)\n",
    "        self.resnet = timm.create_model('resnet34', pretrained=True)\n",
    "        self.output = nn.Linear(1000, 1)\n",
    "\n",
    "    def forward(self, x):\n",
    "        # x = self.input(x)\n",
    "        x = self.resnet(x)\n",
    "        return self.output(x).sigmoid()"
   ]
  },
  {
   "cell_type": "code",
   "execution_count": 12,
   "id": "404037b7",
   "metadata": {},
   "outputs": [],
   "source": [
    "models = [ImgClass().to(dev) for _ in range(19)]"
   ]
  },
  {
   "cell_type": "code",
   "execution_count": null,
   "id": "6b4b6f88",
   "metadata": {
    "scrolled": false
   },
   "outputs": [
    {
     "data": {
      "application/vnd.jupyter.widget-view+json": {
       "model_id": "c6c02bb5df7941c99ef4ab5240d33ee3",
       "version_major": 2,
       "version_minor": 0
      },
      "text/plain": [
       "  0%|          | 0/100 [00:00<?, ?it/s]"
      ]
     },
     "metadata": {},
     "output_type": "display_data"
    },
    {
     "data": {
      "application/vnd.jupyter.widget-view+json": {
       "model_id": "",
       "version_major": 2,
       "version_minor": 0
      },
      "text/plain": [
       "  0%|          | 0/12 [00:00<?, ?it/s]"
      ]
     },
     "metadata": {},
     "output_type": "display_data"
    },
    {
     "data": {
      "application/vnd.jupyter.widget-view+json": {
       "model_id": "",
       "version_major": 2,
       "version_minor": 0
      },
      "text/plain": [
       "  0%|          | 0/12 [00:00<?, ?it/s]"
      ]
     },
     "metadata": {},
     "output_type": "display_data"
    },
    {
     "data": {
      "application/vnd.jupyter.widget-view+json": {
       "model_id": "",
       "version_major": 2,
       "version_minor": 0
      },
      "text/plain": [
       "  0%|          | 0/12 [00:00<?, ?it/s]"
      ]
     },
     "metadata": {},
     "output_type": "display_data"
    },
    {
     "data": {
      "application/vnd.jupyter.widget-view+json": {
       "model_id": "",
       "version_major": 2,
       "version_minor": 0
      },
      "text/plain": [
       "  0%|          | 0/12 [00:00<?, ?it/s]"
      ]
     },
     "metadata": {},
     "output_type": "display_data"
    },
    {
     "data": {
      "application/vnd.jupyter.widget-view+json": {
       "model_id": "",
       "version_major": 2,
       "version_minor": 0
      },
      "text/plain": [
       "  0%|          | 0/12 [00:00<?, ?it/s]"
      ]
     },
     "metadata": {},
     "output_type": "display_data"
    },
    {
     "data": {
      "application/vnd.jupyter.widget-view+json": {
       "model_id": "",
       "version_major": 2,
       "version_minor": 0
      },
      "text/plain": [
       "  0%|          | 0/12 [00:00<?, ?it/s]"
      ]
     },
     "metadata": {},
     "output_type": "display_data"
    },
    {
     "data": {
      "application/vnd.jupyter.widget-view+json": {
       "model_id": "",
       "version_major": 2,
       "version_minor": 0
      },
      "text/plain": [
       "  0%|          | 0/12 [00:00<?, ?it/s]"
      ]
     },
     "metadata": {},
     "output_type": "display_data"
    },
    {
     "data": {
      "application/vnd.jupyter.widget-view+json": {
       "model_id": "",
       "version_major": 2,
       "version_minor": 0
      },
      "text/plain": [
       "  0%|          | 0/12 [00:00<?, ?it/s]"
      ]
     },
     "metadata": {},
     "output_type": "display_data"
    },
    {
     "data": {
      "application/vnd.jupyter.widget-view+json": {
       "model_id": "",
       "version_major": 2,
       "version_minor": 0
      },
      "text/plain": [
       "  0%|          | 0/12 [00:00<?, ?it/s]"
      ]
     },
     "metadata": {},
     "output_type": "display_data"
    }
   ],
   "source": [
    "N_EPOCHS = 10\n",
    "loss_fn = nn.BCELoss()\n",
    "losses = [[] for _ in range(19)]\n",
    "accs = [[] for _ in range(19)]\n",
    "optims = [torch.optim.Adam(models[i].parameters(), lr=1e-3) for i in range(19)]\n",
    "\n",
    "for epoch in trange(N_EPOCHS):\n",
    "    for X, y in tqdm(train_dtld, leave=False):\n",
    "        for i, model in enumerate(models):\n",
    "            X, y = X.to(dev), y.to(dev)\n",
    "            y_pred = model(X)\n",
    "\n",
    "            loss = loss_fn(y_pred, y[:, :, i].float())\n",
    "            \n",
    "            acc = metrics.accuracy_score(y[:, :, i].cpu().detach().numpy(), y_pred.cpu().detach().numpy() > 0.5)\n",
    "\n",
    "            model.zero_grad()\n",
    "            loss.backward()\n",
    "            optims[i].step()\n",
    "\n",
    "            losses[i].append(loss.item())\n",
    "            accs[i].append(acc)"
   ]
  },
  {
   "cell_type": "code",
   "execution_count": null,
   "id": "1f501047",
   "metadata": {},
   "outputs": [],
   "source": [
    "_ = plt.plot(losses)"
   ]
  },
  {
   "cell_type": "code",
   "execution_count": null,
   "id": "4a4358a4",
   "metadata": {},
   "outputs": [],
   "source": [
    "_ = plt.plot(accs)"
   ]
  }
 ],
 "metadata": {
  "kernelspec": {
   "display_name": "Python 3 (ipykernel)",
   "language": "python",
   "name": "python3"
  },
  "language_info": {
   "codemirror_mode": {
    "name": "ipython",
    "version": 3
   },
   "file_extension": ".py",
   "mimetype": "text/x-python",
   "name": "python",
   "nbconvert_exporter": "python",
   "pygments_lexer": "ipython3",
   "version": "3.10.9"
  }
 },
 "nbformat": 4,
 "nbformat_minor": 5
}
