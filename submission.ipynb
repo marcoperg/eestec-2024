{
 "cells": [
  {
   "cell_type": "code",
   "execution_count": 1,
   "id": "5df5088f",
   "metadata": {},
   "outputs": [],
   "source": [
    "from pathlib import Path\n",
    "\n",
    "import numpy as np\n",
    "import pandas as pd\n",
    "import polars as pl\n",
    "from sklearn.base import BaseEstimator, RegressorMixin\n",
    "from sklearn.metrics import mean_squared_error\n",
    "from sklearn.model_selection import KFold\n",
    "import lightgbm as lgb\n",
    "from tqdm.auto import tqdm\n",
    "import joblib"
   ]
  },
  {
   "cell_type": "code",
   "execution_count": 2,
   "id": "8db42827",
   "metadata": {},
   "outputs": [],
   "source": [
    "from sklearn.feature_extraction.text import TfidfVectorizer\n",
    "from sklearn.model_selection import train_test_split\n",
    "from sklearn.linear_model import LogisticRegression\n",
    "from sklearn.metrics import roc_auc_score"
   ]
  },
  {
   "cell_type": "code",
   "execution_count": 3,
   "id": "1c3a517f",
   "metadata": {},
   "outputs": [],
   "source": [
    "DATA_ROOT   = Path('./data')\n",
    "WORKING_DIR = Path('./')\n",
    "STUDY_PATH = WORKING_DIR / 'studies'"
   ]
  },
  {
   "cell_type": "code",
   "execution_count": 4,
   "id": "75f9f57d",
   "metadata": {},
   "outputs": [],
   "source": [
    "X = pd.read_csv(DATA_ROOT / 'X_train.csv')\n",
    "y = pd.read_csv(DATA_ROOT / 'train_labels.csv')\n",
    "X_test = pd.read_csv(DATA_ROOT / 'X_test.csv')\n",
    "\n",
    "genre_cols = list(set(y.columns) - set(['imdb_score']))"
   ]
  },
  {
   "cell_type": "code",
   "execution_count": 5,
   "id": "11cfb40c",
   "metadata": {},
   "outputs": [],
   "source": [
    "def to_pandas(df_data, cat_cols=None):\n",
    "    df_data = df_data.to_pandas()\n",
    "    \n",
    "    if cat_cols is None:\n",
    "        print(df_data.select_dtypes(\"object\").columns)\n",
    "        cat_cols = list(df_data.select_dtypes(\"object\").columns)\n",
    "    \n",
    "    df_data[cat_cols] = df_data[cat_cols].astype(\"category\")\n",
    "    \n",
    "    return df_data"
   ]
  },
  {
   "cell_type": "markdown",
   "id": "eb12a116",
   "metadata": {},
   "source": [
    "## Preprocess data"
   ]
  },
  {
   "cell_type": "code",
   "execution_count": 6,
   "id": "882df576",
   "metadata": {},
   "outputs": [],
   "source": [
    "def handle_types(df):\n",
    "    str_cols = [col for col in df.columns if df[col].dtype == pl.String]\n",
    "    df = df.with_columns(pl.col(str_cols).cast(pl.Categorical))\n",
    "    \n",
    "    return df"
   ]
  },
  {
   "cell_type": "code",
   "execution_count": 7,
   "id": "8f1a6ccf",
   "metadata": {},
   "outputs": [],
   "source": [
    "class VotingModel(BaseEstimator, RegressorMixin):\n",
    "    def __init__(self, estimators):\n",
    "        super().__init__()\n",
    "        self.estimators = estimators\n",
    "        \n",
    "    def fit(self, X, y=None):\n",
    "        return self\n",
    "    \n",
    "    def predict(self, X):\n",
    "        y_preds = [estimator.predict(X) for estimator in self.estimators]\n",
    "        return np.mean(y_preds, axis=0)\n",
    "    \n",
    "    def predict_proba(self, X):\n",
    "        try:\n",
    "            y_preds = [estimator.predict_proba(X) for estimator in self.estimators]\n",
    "        except AttributeError:\n",
    "            y_preds = [estimator.predict(X) for estimator in self.estimators]\n",
    "        return np.mean(y_preds, axis=0)"
   ]
  },
  {
   "cell_type": "code",
   "execution_count": 8,
   "id": "0f509c41",
   "metadata": {},
   "outputs": [],
   "source": [
    "def generate_preds_on_textcol(X_train, X_test, y_train, target_cols, prefix_name=''):\n",
    "    encoder = TfidfVectorizer()\n",
    "    encoder.fit(X_train.values)\n",
    "\n",
    "    X_train = encoder.transform(X_train)\n",
    "    X_test = encoder.transform(X_test)\n",
    "\n",
    "    preds = pd.DataFrame()\n",
    "    for col in target_cols:\n",
    "        # se puede probar sin loss balanceada\n",
    "        model = LogisticRegression(class_weight='balanced').fit(X_train, y_train[col])\n",
    "        preds[prefix_name+col] = model.predict_proba(X_test)[:, 1]\n",
    "    \n",
    "    return preds"
   ]
  },
  {
   "cell_type": "code",
   "execution_count": 9,
   "id": "71b5e927",
   "metadata": {},
   "outputs": [
    {
     "name": "stderr",
     "output_type": "stream",
     "text": [
      "/tmp/ipykernel_17940/424569841.py:2: FutureWarning: The default value of regex will change from True to False in a future version. In addition, single character regular expressions will *not* be treated as literal strings when regex=True.\n",
      "  X['plot_keywords'] = X['plot_keywords'].str.replace(\"|\", \" \")\n"
     ]
    },
    {
     "data": {
      "application/vnd.jupyter.widget-view+json": {
       "model_id": "ae5c5766d11c4c9daef5bfbade8099a0",
       "version_major": 2,
       "version_minor": 0
      },
      "text/plain": [
       "  0%|          | 0/2894 [00:00<?, ?it/s]"
      ]
     },
     "metadata": {},
     "output_type": "display_data"
    }
   ],
   "source": [
    "# preparar las columnas de strings\n",
    "X['plot_keywords'] = X['plot_keywords'].str.replace(\"|\", \" \")\n",
    "\n",
    "processed = []\n",
    "for i in tqdm(range(len(X))):\n",
    "    processed.append(\" \".join(eval(X['keywords'].iloc[i])))\n",
    "    \n",
    "X['keywords'] = processed\n",
    "\n",
    "# feature que concatena textos\n",
    "X['plot_x_plot_keywords_x_overview'] = X['plot_keywords'] + \" \" + \\\n",
    "                                            X['keywords'] + \" \" + \\\n",
    "                                            X['overview']"
   ]
  },
  {
   "cell_type": "code",
   "execution_count": 10,
   "id": "dea8072b",
   "metadata": {},
   "outputs": [
    {
     "name": "stderr",
     "output_type": "stream",
     "text": [
      "/tmp/ipykernel_17940/148343378.py:2: FutureWarning: The default value of regex will change from True to False in a future version. In addition, single character regular expressions will *not* be treated as literal strings when regex=True.\n",
      "  X_test['plot_keywords'] = X_test['plot_keywords'].str.replace(\"|\", \" \")\n"
     ]
    },
    {
     "data": {
      "application/vnd.jupyter.widget-view+json": {
       "model_id": "213b1e09442548f2a6e85c4ce583b079",
       "version_major": 2,
       "version_minor": 0
      },
      "text/plain": [
       "  0%|          | 0/724 [00:00<?, ?it/s]"
      ]
     },
     "metadata": {},
     "output_type": "display_data"
    }
   ],
   "source": [
    "# preparar las columnas de strings\n",
    "X_test['plot_keywords'] = X_test['plot_keywords'].str.replace(\"|\", \" \")\n",
    "\n",
    "processed = []\n",
    "for i in tqdm(range(len(X_test))):\n",
    "    processed.append(\" \".join(eval(X_test['keywords'].iloc[i])))\n",
    "    \n",
    "X_test['keywords'] = processed\n",
    "\n",
    "\n",
    "# feature que concatena textos\n",
    "X_test['plot_x_plot_keywords_x_overview'] = X_test['plot_keywords'] + \" \" + \\\n",
    "                                            X_test['keywords'] + \" \" + \\\n",
    "                                            X_test['overview']\n",
    "\n",
    "for text_col in ['plot_keywords', 'keywords', 'overview', 'plot_x_plot_keywords_x_overview']:\n",
    "\n",
    "    preds = generate_preds_on_textcol(X[text_col], X_test[text_col], y, genre_cols, prefix_name=f'p_{text_col}')\n",
    "    X_test[preds.columns] = preds"
   ]
  },
  {
   "cell_type": "markdown",
   "id": "e9fecb04",
   "metadata": {},
   "source": [
    "## Regression"
   ]
  },
  {
   "cell_type": "code",
   "execution_count": 11,
   "id": "be091052",
   "metadata": {},
   "outputs": [],
   "source": [
    "model = joblib.load('./models/regression.pkl')"
   ]
  },
  {
   "cell_type": "code",
   "execution_count": 12,
   "id": "30a16935",
   "metadata": {
    "scrolled": false
   },
   "outputs": [
    {
     "name": "stdout",
     "output_type": "stream",
     "text": [
      "Index([], dtype='object')\n"
     ]
    }
   ],
   "source": [
    "X = X_test[model.estimators[0].feature_name_]\n",
    "X = pl.from_pandas(X).pipe(handle_types)\n",
    "\n",
    "X = to_pandas(X)"
   ]
  },
  {
   "cell_type": "code",
   "execution_count": 13,
   "id": "7b63db74",
   "metadata": {},
   "outputs": [],
   "source": [
    "out = model.predict(X).tolist()"
   ]
  },
  {
   "cell_type": "code",
   "execution_count": 14,
   "id": "0e824746",
   "metadata": {},
   "outputs": [],
   "source": [
    "with open(\"test_predictions_scores.txt\", \"w\") as f:\n",
    "    f.write(str(out))"
   ]
  },
  {
   "cell_type": "markdown",
   "id": "26d635e3",
   "metadata": {},
   "source": [
    "## Classification"
   ]
  },
  {
   "cell_type": "code",
   "execution_count": 15,
   "id": "37c819fd",
   "metadata": {},
   "outputs": [],
   "source": [
    "models = joblib.load('./models/classification.pkl')"
   ]
  },
  {
   "cell_type": "code",
   "execution_count": 16,
   "id": "5dc01625",
   "metadata": {},
   "outputs": [],
   "source": [
    "X_test = X_test.rename(columns={\n",
    "    'p_plot_keywordsScience Fiction': 'p_plot_keywordsScience_Fiction',\n",
    "    'p_keywordsScience Fiction': 'p_keywordsScience_Fiction',\n",
    "    'p_overviewScience Fiction': 'p_overviewScience_Fiction',\n",
    "    'p_plot_x_plot_keywords_x_overviewScience Fiction': 'p_plot_x_plot_keywords_x_overviewScience_Fiction'\n",
    "})"
   ]
  },
  {
   "cell_type": "code",
   "execution_count": 17,
   "id": "84119e7d",
   "metadata": {},
   "outputs": [
    {
     "name": "stdout",
     "output_type": "stream",
     "text": [
      "Index([], dtype='object')\n"
     ]
    }
   ],
   "source": [
    "X = X_test.reset_index()[models[0].estimators[0].feature_name_]\n",
    "X = pl.from_pandas(X).pipe(handle_types)\n",
    "\n",
    "X = to_pandas(X)"
   ]
  },
  {
   "cell_type": "code",
   "execution_count": 18,
   "id": "3424bbe6",
   "metadata": {},
   "outputs": [],
   "source": [
    "out = np.array([model.predict(X) for model in models]).T"
   ]
  },
  {
   "cell_type": "code",
   "execution_count": 25,
   "id": "ebbe017e",
   "metadata": {},
   "outputs": [],
   "source": [
    "out = (out > 0.5).astype(int)"
   ]
  },
  {
   "cell_type": "code",
   "execution_count": 28,
   "id": "6ddcdcbe",
   "metadata": {},
   "outputs": [
    {
     "data": {
      "text/plain": [
       "(724, 19)"
      ]
     },
     "execution_count": 28,
     "metadata": {},
     "output_type": "execute_result"
    }
   ],
   "source": [
    "out.shape"
   ]
  },
  {
   "cell_type": "code",
   "execution_count": 29,
   "id": "1c48161f",
   "metadata": {},
   "outputs": [],
   "source": [
    "with open(\"test_predictions_genres.txt\", \"w\") as f:\n",
    "    f.write(str(out.tolist()))"
   ]
  }
 ],
 "metadata": {
  "kernelspec": {
   "display_name": "Python 3 (ipykernel)",
   "language": "python",
   "name": "python3"
  },
  "language_info": {
   "codemirror_mode": {
    "name": "ipython",
    "version": 3
   },
   "file_extension": ".py",
   "mimetype": "text/x-python",
   "name": "python",
   "nbconvert_exporter": "python",
   "pygments_lexer": "ipython3",
   "version": "3.10.9"
  }
 },
 "nbformat": 4,
 "nbformat_minor": 5
}
