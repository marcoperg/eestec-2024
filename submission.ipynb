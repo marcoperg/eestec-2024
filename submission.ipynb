{
 "cells": [
  {
   "cell_type": "code",
   "execution_count": 1,
   "id": "092b0fca",
   "metadata": {},
   "outputs": [],
   "source": [
    "from pathlib import Path\n",
    "\n",
    "import numpy as np\n",
    "import pandas as pd\n",
    "import polars as pl\n",
    "from sklearn.base import BaseEstimator, RegressorMixin\n",
    "from sklearn.metrics import mean_squared_error\n",
    "from sklearn.model_selection import KFold\n",
    "import lightgbm as lgb\n",
    "from tqdm.auto import tqdm\n",
    "import joblib"
   ]
  },
  {
   "cell_type": "code",
   "execution_count": 2,
   "id": "061b7d53",
   "metadata": {},
   "outputs": [],
   "source": [
    "from sklearn.feature_extraction.text import TfidfVectorizer\n",
    "from sklearn.model_selection import train_test_split\n",
    "from sklearn.linear_model import LogisticRegression\n",
    "from sklearn.metrics import roc_auc_score"
   ]
  },
  {
   "cell_type": "code",
   "execution_count": 3,
   "id": "15495f1e",
   "metadata": {},
   "outputs": [],
   "source": [
    "DATA_ROOT   = Path('./data')\n",
    "WORKING_DIR = Path('./')\n",
    "STUDY_PATH = WORKING_DIR / 'studies'"
   ]
  },
  {
   "cell_type": "code",
   "execution_count": 4,
   "id": "41350f28",
   "metadata": {},
   "outputs": [],
   "source": [
    "X = pd.read_csv(DATA_ROOT / 'X_train.csv')\n",
    "y = pd.read_csv(DATA_ROOT / 'train_labels.csv')\n",
    "X_test = pd.read_csv(DATA_ROOT / 'X_test.csv')\n",
    "\n",
    "genre_cols = list(set(y.columns) - set(['imdb_score']))"
   ]
  },
  {
   "cell_type": "code",
   "execution_count": 5,
   "id": "6854abab",
   "metadata": {},
   "outputs": [],
   "source": [
    "def to_pandas(df_data, cat_cols=None):\n",
    "    df_data = df_data.to_pandas()\n",
    "    \n",
    "    if cat_cols is None:\n",
    "        print(df_data.select_dtypes(\"object\").columns)\n",
    "        cat_cols = list(df_data.select_dtypes(\"object\").columns)\n",
    "    \n",
    "    df_data[cat_cols] = df_data[cat_cols].astype(\"category\")\n",
    "    \n",
    "    return df_data"
   ]
  },
  {
   "cell_type": "markdown",
   "id": "63cc2d9a",
   "metadata": {},
   "source": [
    "## Preprocess data"
   ]
  },
  {
   "cell_type": "code",
   "execution_count": 6,
   "id": "4a6a0667",
   "metadata": {},
   "outputs": [],
   "source": [
    "def handle_types(df):\n",
    "    str_cols = [col for col in df.columns if df[col].dtype == pl.String]\n",
    "    df = df.with_columns(pl.col(str_cols).cast(pl.Categorical))\n",
    "    \n",
    "    return df"
   ]
  },
  {
   "cell_type": "code",
   "execution_count": 7,
   "id": "c7ccfab2",
   "metadata": {},
   "outputs": [],
   "source": [
    "class VotingModel(BaseEstimator, RegressorMixin):\n",
    "    def __init__(self, estimators):\n",
    "        super().__init__()\n",
    "        self.estimators = estimators\n",
    "        \n",
    "    def fit(self, X, y=None):\n",
    "        return self\n",
    "    \n",
    "    def predict(self, X):\n",
    "        y_preds = [estimator.predict(X) for estimator in self.estimators]\n",
    "        return np.mean(y_preds, axis=0)\n",
    "    \n",
    "    def predict_proba(self, X):\n",
    "        try:\n",
    "            y_preds = [estimator.predict_proba(X) for estimator in self.estimators]\n",
    "        except AttributeError:\n",
    "            y_preds = [estimator.predict(X) for estimator in self.estimators]\n",
    "        return np.mean(y_preds, axis=0)"
   ]
  },
  {
   "cell_type": "code",
   "execution_count": 8,
   "id": "0890e0ed",
   "metadata": {},
   "outputs": [],
   "source": [
    "def generate_preds_on_textcol(X_train, X_test, y_train, target_cols, prefix_name=''):\n",
    "    encoder = TfidfVectorizer()\n",
    "    encoder.fit(X_train.values)\n",
    "\n",
    "    X_train = encoder.transform(X_train)\n",
    "    X_test = encoder.transform(X_test)\n",
    "\n",
    "    preds = pd.DataFrame()\n",
    "    for col in target_cols:\n",
    "        # se puede probar sin loss balanceada\n",
    "        model = LogisticRegression(class_weight='balanced').fit(X_train, y_train[col])\n",
    "        preds[prefix_name+col] = model.predict_proba(X_test)[:, 1]\n",
    "    \n",
    "    return preds"
   ]
  },
  {
   "cell_type": "code",
   "execution_count": 9,
   "id": "53261b6b",
   "metadata": {},
   "outputs": [
    {
     "name": "stderr",
     "output_type": "stream",
     "text": [
      "/tmp/ipykernel_15286/424569841.py:2: FutureWarning: The default value of regex will change from True to False in a future version. In addition, single character regular expressions will *not* be treated as literal strings when regex=True.\n",
      "  X['plot_keywords'] = X['plot_keywords'].str.replace(\"|\", \" \")\n"
     ]
    },
    {
     "data": {
      "application/vnd.jupyter.widget-view+json": {
       "model_id": "3d599058c66244b7a880add5579e992a",
       "version_major": 2,
       "version_minor": 0
      },
      "text/plain": [
       "  0%|          | 0/2894 [00:00<?, ?it/s]"
      ]
     },
     "metadata": {},
     "output_type": "display_data"
    }
   ],
   "source": [
    "# preparar las columnas de strings\n",
    "X['plot_keywords'] = X['plot_keywords'].str.replace(\"|\", \" \")\n",
    "\n",
    "processed = []\n",
    "for i in tqdm(range(len(X))):\n",
    "    processed.append(\" \".join(eval(X['keywords'].iloc[i])))\n",
    "    \n",
    "X['keywords'] = processed\n",
    "\n",
    "# feature que concatena textos\n",
    "X['plot_x_plot_keywords_x_overview'] = X['plot_keywords'] + \" \" + \\\n",
    "                                            X['keywords'] + \" \" + \\\n",
    "                                            X['overview']"
   ]
  },
  {
   "cell_type": "code",
   "execution_count": 10,
   "id": "d9f66891",
   "metadata": {},
   "outputs": [
    {
     "name": "stderr",
     "output_type": "stream",
     "text": [
      "/tmp/ipykernel_15286/148343378.py:2: FutureWarning: The default value of regex will change from True to False in a future version. In addition, single character regular expressions will *not* be treated as literal strings when regex=True.\n",
      "  X_test['plot_keywords'] = X_test['plot_keywords'].str.replace(\"|\", \" \")\n"
     ]
    },
    {
     "data": {
      "application/vnd.jupyter.widget-view+json": {
       "model_id": "1265df5e46fc4ddb9d7527fc775001d6",
       "version_major": 2,
       "version_minor": 0
      },
      "text/plain": [
       "  0%|          | 0/724 [00:00<?, ?it/s]"
      ]
     },
     "metadata": {},
     "output_type": "display_data"
    }
   ],
   "source": [
    "# preparar las columnas de strings\n",
    "X_test['plot_keywords'] = X_test['plot_keywords'].str.replace(\"|\", \" \")\n",
    "\n",
    "processed = []\n",
    "for i in tqdm(range(len(X_test))):\n",
    "    processed.append(\" \".join(eval(X_test['keywords'].iloc[i])))\n",
    "    \n",
    "X_test['keywords'] = processed\n",
    "\n",
    "\n",
    "# feature que concatena textos\n",
    "X_test['plot_x_plot_keywords_x_overview'] = X_test['plot_keywords'] + \" \" + \\\n",
    "                                            X_test['keywords'] + \" \" + \\\n",
    "                                            X_test['overview']\n",
    "\n",
    "for text_col in ['plot_keywords', 'keywords', 'overview', 'plot_x_plot_keywords_x_overview']:\n",
    "\n",
    "    preds = generate_preds_on_textcol(X[text_col], X_test[text_col], y, genre_cols, prefix_name=f'p_{text_col}')\n",
    "    X_test[preds.columns] = preds"
   ]
  },
  {
   "cell_type": "markdown",
   "id": "9be7ea2f",
   "metadata": {},
   "source": [
    "## Regression"
   ]
  },
  {
   "cell_type": "code",
   "execution_count": 11,
   "id": "1ef47fbe",
   "metadata": {},
   "outputs": [],
   "source": [
    "model = joblib.load('./models/regression.pkl')"
   ]
  },
  {
   "cell_type": "code",
   "execution_count": 12,
   "id": "d6cd133e",
   "metadata": {
    "scrolled": false
   },
   "outputs": [
    {
     "name": "stdout",
     "output_type": "stream",
     "text": [
      "Index([], dtype='object')\n"
     ]
    }
   ],
   "source": [
    "X = X_test[model.estimators[0].feature_name_]\n",
    "X = pl.from_pandas(X).pipe(handle_types)\n",
    "\n",
    "X = to_pandas(X)"
   ]
  },
  {
   "cell_type": "code",
   "execution_count": 13,
   "id": "dec95bf0",
   "metadata": {},
   "outputs": [],
   "source": [
    "out = model.predict(X).tolist()\n",
    "with open(\"test_predictions_scores.txt\", \"w\") as f:\n",
    "    f.write(str(out))"
   ]
  },
  {
   "cell_type": "markdown",
   "id": "14f3f381",
   "metadata": {},
   "source": [
    "## Classification"
   ]
  },
  {
   "cell_type": "code",
   "execution_count": 14,
   "id": "cb1b7772",
   "metadata": {},
   "outputs": [],
   "source": [
    "models = joblib.load('./models/classification.pkl')"
   ]
  },
  {
   "cell_type": "code",
   "execution_count": 24,
   "id": "c05d9937",
   "metadata": {},
   "outputs": [],
   "source": [
    "X_test = X_test.rename(columns={\n",
    "    'p_plot_keywordsScience Fiction': 'p_plot_keywordsScience_Fiction',\n",
    "    'p_keywordsScience Fiction': 'p_keywordsScience_Fiction',\n",
    "    'p_overviewScience Fiction': 'p_overviewScience_Fiction',\n",
    "    'p_plot_x_plot_keywords_x_overviewScience Fiction': 'p_plot_x_plot_keywords_x_overviewScience_Fiction'\n",
    "})"
   ]
  },
  {
   "cell_type": "code",
   "execution_count": 35,
   "id": "45bca800",
   "metadata": {},
   "outputs": [
    {
     "name": "stdout",
     "output_type": "stream",
     "text": [
      "Index([], dtype='object')\n"
     ]
    }
   ],
   "source": [
    "X = X_test.reset_index()[models[0].estimators[0].feature_name_]\n",
    "X = pl.from_pandas(X).pipe(handle_types)\n",
    "\n",
    "X = to_pandas(X)"
   ]
  },
  {
   "cell_type": "code",
   "execution_count": 48,
   "id": "3b7d06f0",
   "metadata": {},
   "outputs": [],
   "source": [
    "out = np.array([model.predict(X) for model in models]).T"
   ]
  },
  {
   "cell_type": "code",
   "execution_count": 49,
   "id": "6ca7578d",
   "metadata": {},
   "outputs": [
    {
     "data": {
      "text/plain": [
       "array([[0. , 0. , 0. , ..., 0. , 0. , 0. ],\n",
       "       [0. , 0. , 0. , ..., 0. , 0. , 0. ],\n",
       "       [0.2, 0. , 0. , ..., 0. , 0. , 0. ],\n",
       "       ...,\n",
       "       [1. , 0. , 0. , ..., 0.4, 0. , 0. ],\n",
       "       [0. , 0. , 0. , ..., 0. , 0. , 0. ],\n",
       "       [0. , 0. , 0. , ..., 0. , 0. , 0. ]])"
      ]
     },
     "execution_count": 49,
     "metadata": {},
     "output_type": "execute_result"
    }
   ],
   "source": [
    "out"
   ]
  }
 ],
 "metadata": {
  "kernelspec": {
   "display_name": "Python 3 (ipykernel)",
   "language": "python",
   "name": "python3"
  },
  "language_info": {
   "codemirror_mode": {
    "name": "ipython",
    "version": 3
   },
   "file_extension": ".py",
   "mimetype": "text/x-python",
   "name": "python",
   "nbconvert_exporter": "python",
   "pygments_lexer": "ipython3",
   "version": "3.10.9"
  }
 },
 "nbformat": 4,
 "nbformat_minor": 5
}
